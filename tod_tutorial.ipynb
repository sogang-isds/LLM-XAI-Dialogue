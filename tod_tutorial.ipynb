{
 "cells": [
  {
   "cell_type": "markdown",
   "source": [
    "# Task Oriented Dialogue System with LLM"
   ],
   "metadata": {
    "collapsed": false
   },
   "id": "71266ef51177b3a1"
  },
  {
   "cell_type": "code",
   "execution_count": null,
   "outputs": [],
   "source": [
    "!pip install openai==1.6.0 langchain==0.0.350"
   ],
   "metadata": {
    "collapsed": false
   },
   "id": "2e175c703d4cf332"
  },
  {
   "cell_type": "code",
   "execution_count": 51,
   "id": "initial_id",
   "metadata": {
    "collapsed": true,
    "ExecuteTime": {
     "end_time": "2023-12-21T16:38:33.744947Z",
     "start_time": "2023-12-21T16:38:33.632479Z"
    }
   },
   "outputs": [],
   "source": [
    "import os\n",
    "from datetime import datetime, timedelta\n",
    "\n",
    "from langchain.chat_models import ChatOpenAI\n",
    "from langchain.chains import LLMChain\n",
    "from langchain.prompts import (\n",
    "    ChatPromptTemplate,\n",
    "    HumanMessagePromptTemplate,\n",
    "    MessagesPlaceholder,\n",
    "    SystemMessagePromptTemplate,\n",
    "    AIMessagePromptTemplate\n",
    ")\n",
    "from langchain.chains import create_extraction_chain"
   ]
  },
  {
   "cell_type": "code",
   "execution_count": 52,
   "outputs": [],
   "source": [
    "api_key = os.environ.get(\"OPENAI_API_KEY\")"
   ],
   "metadata": {
    "collapsed": false,
    "ExecuteTime": {
     "end_time": "2023-12-21T16:38:33.751889Z",
     "start_time": "2023-12-21T16:38:33.748386Z"
    }
   },
   "id": "86ecea277b883676"
  },
  {
   "cell_type": "markdown",
   "source": [
    "## Prompt"
   ],
   "metadata": {
    "collapsed": false
   },
   "id": "7b3478e7e860426d"
  },
  {
   "cell_type": "markdown",
   "source": [
    "### NLU Prompt"
   ],
   "metadata": {
    "collapsed": false
   },
   "id": "97b4a08716d4acb8"
  },
  {
   "cell_type": "code",
   "execution_count": 53,
   "outputs": [],
   "source": [
    "nlu_prompt_text = \"\"\"당신은 일정관리 시스템 입니다. 일정관리를 위해 필요한 slot, value를 추출합니다.\n",
    "\n",
    "event_name이 확실하지 않을 땐 추출하지 않습니다.\n",
    "time은 HH:MM 형식으로 출력합니다.\n",
    "date는 YYYY-MM-DD 형식으로 출력합니다.\n",
    "\n",
    "현재날짜: {today}\n",
    "\"\"\""
   ],
   "metadata": {
    "collapsed": false,
    "ExecuteTime": {
     "end_time": "2023-12-21T16:38:33.762959Z",
     "start_time": "2023-12-21T16:38:33.752048Z"
    }
   },
   "id": "1dc1cc6eb5f5869a"
  },
  {
   "cell_type": "markdown",
   "source": [
    "### DST Prompt"
   ],
   "metadata": {
    "collapsed": false
   },
   "id": "5f771ed8cdc31725"
  },
  {
   "cell_type": "code",
   "execution_count": 54,
   "outputs": [],
   "source": [
    "dst_prompt_text = \"\"\"당신은 일정관리 시스템의 Dialog State Tracker 입니다. \n",
    "일정관리를 위해 nlu_result를 분석하여 dialog_state를 업데이트 하세요.\n",
    "read를 수행하기 위해서는 1개 이상의 db가 필요합니다.\n",
    "update, delete를 수행하기 위해서는 오직 1개의 db만 필요합니다.\n",
    "업데이트 된 dialog_state에는 현재 dialog_state db에 있는 값 중 slot, value 조건에 맞는 값만 남겨놓습니다.\n",
    "\n",
    "\n",
    "# data\n",
    "nlu_result: {nlu_result}\n",
    "dialog_state: {dialog_state}\n",
    "현재날짜: {today}\n",
    "\n",
    "# 응답\n",
    "- 업데이트된 dialog_state 를 dict 형태로 출력\n",
    "\"\"\""
   ],
   "metadata": {
    "collapsed": false,
    "ExecuteTime": {
     "end_time": "2023-12-21T16:38:33.763791Z",
     "start_time": "2023-12-21T16:38:33.756739Z"
    }
   },
   "id": "8e2e9eec76c518c9"
  },
  {
   "cell_type": "markdown",
   "source": [
    "### DP Prompt"
   ],
   "metadata": {
    "collapsed": false
   },
   "id": "f5630a212fa7c8f6"
  },
  {
   "cell_type": "code",
   "execution_count": null,
   "outputs": [],
   "source": [
    "dp_prompt_text = \"\"\"당신은 일정관리 시스템의 Dialog Policy 입니다.\n",
    "dialog_state를 분석하여 system_action을 결정하세요.\n",
    "\n",
    "# data\n",
    "dialog_state: {dialog_state}\n",
    "현재날짜: {today}\n",
    "\n",
    "# 응답\n",
    "- 형식: system_action을 dict 형태로 출력\n",
    "- keys:\n",
    "  - system_action: (Required) \n",
    "    - inform: 정보를 알려줄 때\n",
    "    - request: 부족한 정보를 물어볼 때 slot을 함께 출력\n",
    "    - run_action: 필요한 정보를 충족할 경우 dialog_state의 action을 수행\n",
    "  - slot: event_name, date, time (Optional)\n",
    "  - value: str (Optional)\n",
    "\"\"\""
   ],
   "metadata": {
    "collapsed": false,
    "is_executing": true
   },
   "id": "1fcaaf22578b09da"
  },
  {
   "cell_type": "markdown",
   "source": [
    "### NLG Prompt"
   ],
   "metadata": {
    "collapsed": false
   },
   "id": "615e8f22192c4ae"
  },
  {
   "cell_type": "code",
   "execution_count": 56,
   "outputs": [],
   "source": [
    "nlg_prompt_text = \"\"\"당신은 일정관리 시스템의 Natural Language Generator 입니다.\n",
    "system_stater값을 이용하여 user에게 자연어 형태로 응답하세요.\n",
    "\n",
    "# data\n",
    "system_state: {system_state}\n",
    "현재날짜: {today}\n",
    "\n",
    "# 응답\n",
    "- 자연어 형태로 출력\n",
    "\"\"\""
   ],
   "metadata": {
    "collapsed": false,
    "ExecuteTime": {
     "end_time": "2023-12-21T16:38:33.814187Z",
     "start_time": "2023-12-21T16:38:33.806162Z"
    }
   },
   "id": "9565fad277d717cf"
  },
  {
   "cell_type": "markdown",
   "source": [
    "## Agent"
   ],
   "metadata": {
    "collapsed": false
   },
   "id": "32bcebcceb2d365b"
  },
  {
   "cell_type": "code",
   "execution_count": 57,
   "outputs": [],
   "source": [
    "class PromptAgent:\n",
    "    def __init__(self, llm, verbose=False):\n",
    "        self.dp_chain = None\n",
    "        self.nlu_chain = None\n",
    "        self.dst_chain = None\n",
    "        self.nlg_chain = None\n",
    "        self.llm = llm\n",
    "        self.verbose = verbose\n",
    "\n",
    "        self.init_nlu_chain()\n",
    "        self.init_dst_chain()\n",
    "        self.init_nlg_chain()\n",
    "        self.init_dp_chain()\n",
    "\n",
    "        self.today = datetime.today().strftime(\"%Y-%m-%d %H:%M\")\n",
    "\n",
    "    def init_nlu_chain(self):\n",
    "        schema = {\n",
    "            \"properties\": {\n",
    "                \"event_name\": {\"type\": \"string\"},\n",
    "                \"action\": {\"type\": \"string\", \"enum\": [\"create\", \"read\", \"update\", \"delete\", \"inform\", \"request\"]},\n",
    "                \"date\": {\"type\": \"string\", \"description\": \"날짜\"},\n",
    "                \"time\": {\"type\": \"string\", \"description\": \"시간\"},\n",
    "            },\n",
    "            \"required\": [\"action\"],\n",
    "        }\n",
    "\n",
    "        nlu_prompt = ChatPromptTemplate(\n",
    "            messages=[\n",
    "                AIMessagePromptTemplate.from_template(nlu_prompt_text),\n",
    "                HumanMessagePromptTemplate.from_template(\"{user_input}\"),\n",
    "            ]\n",
    "        )\n",
    "\n",
    "        self.nlu_chain = create_extraction_chain(schema, self.llm, prompt=nlu_prompt, verbose=True)\n",
    "\n",
    "    def run_nlu_chain(self, inp):\n",
    "        response = self.nlu_chain.run({'user_input': inp, 'today': self.today})\n",
    "        return response[0]\n",
    "\n",
    "    def init_dst_chain(self):\n",
    "        dst_prompt = ChatPromptTemplate(\n",
    "            messages=[\n",
    "                AIMessagePromptTemplate.from_template(dst_prompt_text),\n",
    "                # HumanMessagePromptTemplate.from_template(\"{user_input}\"),\n",
    "            ],\n",
    "            input_variables=[\"nlu_result\", \"dialog_state\", \"today\"],\n",
    "        )\n",
    "        self.dst_chain = LLMChain(llm=self.llm, prompt=dst_prompt, verbose=True)\n",
    "\n",
    "    def run_dst_chain(self, dialog_state, nlu_result):\n",
    "        response = self.dst_chain.run({'dialog_state': dialog_state, 'nlu_result': nlu_result, 'today': self.today})\n",
    "        return eval(response)\n",
    "\n",
    "    def init_dp_chain(self):\n",
    "        dp_prompt = ChatPromptTemplate(\n",
    "            messages=[\n",
    "                AIMessagePromptTemplate.from_template(dp_prompt_text),\n",
    "                # HumanMessagePromptTemplate.from_template(\"{user_input}\"),\n",
    "            ]\n",
    "        )\n",
    "        self.dp_chain = LLMChain(llm=self.llm, prompt=dp_prompt, verbose=True)\n",
    "\n",
    "    def run_dp_chain(self, dialog_state):\n",
    "        response = self.dp_chain.run({'dialog_state': dialog_state, 'today': self.today})\n",
    "        return eval(response)\n",
    "\n",
    "    def init_nlg_chain(self):\n",
    "        nlg_prompt = ChatPromptTemplate(\n",
    "            messages=[\n",
    "                AIMessagePromptTemplate.from_template(nlg_prompt_text),\n",
    "                # HumanMessagePromptTemplate.from_template(\"{user_input}\"),\n",
    "            ]\n",
    "        )\n",
    "        self.nlg_chain = LLMChain(llm=self.llm, prompt=nlg_prompt, verbose=True)\n",
    "\n",
    "    def run_nlg_chain(self, system_state):\n",
    "        response = self.nlg_chain.run({'system_state': system_state, 'today': self.today})\n",
    "        return response\n",
    "\n",
    "    def update_dialog_state(self, dialog_state, db=None):\n",
    "        action = dialog_state['action']\n",
    "\n",
    "        if db:\n",
    "            dialog_state.update({'db': db})\n",
    "\n",
    "        if action == 'read':\n",
    "            pass\n",
    "\n",
    "        elif action == 'update':\n",
    "            db = dialog_state['db']\n",
    "\n",
    "            if len(db) == 1:\n",
    "                for key, val in db[0].items():\n",
    "                    if key in dialog_state.keys():\n",
    "                        if dialog_state[key] == '':\n",
    "                            dialog_state[key] = val\n",
    "\n",
    "        return dialog_state\n",
    "\n",
    "    def update_system_state(self, system_state, dialog_state):\n",
    "        action = dialog_state['action']\n",
    "        db = dialog_state['db']\n",
    "        system_action = system_state['system_action']\n",
    "\n",
    "        if system_action == 'inform':\n",
    "            pass\n",
    "        elif system_action == 'request':\n",
    "            pass\n",
    "        elif system_action == 'run_action':\n",
    "            if action == 'read':\n",
    "                system_state['db'] = db\n",
    "            elif action == 'update':\n",
    "                # update DB\n",
    "                for key, val in db[0].items():\n",
    "                    system_state[key] = val\n",
    "                for key, val in dialog_state.items():\n",
    "                    if key != 'db':\n",
    "                        system_state[key] = val\n",
    "\n",
    "        system_state['action'] = action\n",
    "        return system_state"
   ],
   "metadata": {
    "collapsed": false,
    "ExecuteTime": {
     "end_time": "2023-12-21T16:38:33.844008Z",
     "start_time": "2023-12-21T16:38:33.818727Z"
    }
   },
   "id": "2a5aa46637fd3ce0"
  },
  {
   "cell_type": "markdown",
   "source": [
    "## TOD Example"
   ],
   "metadata": {
    "collapsed": false
   },
   "id": "2643ca085b8e2c88"
  },
  {
   "cell_type": "markdown",
   "source": [
    "### LangChain Model 생성"
   ],
   "metadata": {
    "collapsed": false
   },
   "id": "4924f598f9b700aa"
  },
  {
   "cell_type": "code",
   "execution_count": 58,
   "outputs": [],
   "source": [
    "llm = ChatOpenAI(temperature=0, model=\"gpt-3.5-turbo\", api_key=api_key)\n",
    "prompt_agent = PromptAgent(llm=llm, verbose=True)"
   ],
   "metadata": {
    "collapsed": false,
    "ExecuteTime": {
     "end_time": "2023-12-21T16:38:33.867702Z",
     "start_time": "2023-12-21T16:38:33.822269Z"
    }
   },
   "id": "a6b2226c6c777cfd"
  },
  {
   "cell_type": "markdown",
   "source": [
    "### Dialog State 초기화"
   ],
   "metadata": {
    "collapsed": false
   },
   "id": "7850a932a3c7328d"
  },
  {
   "cell_type": "code",
   "execution_count": null,
   "outputs": [],
   "source": [
    "dialog_state = {'event_name': '', 'action': '', 'date': '', 'time': '', 'db': []}"
   ],
   "metadata": {
    "collapsed": false,
    "is_executing": true
   },
   "id": "1cb456802d3a060b"
  },
  {
   "cell_type": "markdown",
   "source": [
    "### 모의 DB 생성"
   ],
   "metadata": {
    "collapsed": false
   },
   "id": "8a138ca60d8252fd"
  },
  {
   "cell_type": "code",
   "execution_count": null,
   "outputs": [],
   "source": [
    "date_today = datetime.today().strftime(\"%Y-%m-%d\")\n",
    "date_tomorrow = (datetime.today() + timedelta(days=1)).strftime(\"%Y-%m-%d\")\n",
    "schedule_list = [\n",
    "    {\n",
    "        'event_name': '산책가기',\n",
    "        'date': date_today,\n",
    "        'time': '10:00'\n",
    "    },\n",
    "    {\n",
    "        'event_name': '데이트',\n",
    "        'date': date_tomorrow,\n",
    "        'time': '12:00'\n",
    "    }\n",
    "]"
   ],
   "metadata": {
    "collapsed": false,
    "is_executing": true
   },
   "id": "a9d9e5f5ece0642a"
  },
  {
   "cell_type": "markdown",
   "source": [
    "### Run NLU Chain"
   ],
   "metadata": {
    "collapsed": false
   },
   "id": "4a7195945c9341b7"
  },
  {
   "cell_type": "code",
   "execution_count": null,
   "outputs": [
    {
     "name": "stdout",
     "output_type": "stream",
     "text": [
      "\n",
      "\n",
      "\u001B[1m> Entering new LLMChain chain...\u001B[0m\n",
      "Prompt after formatting:\n",
      "\u001B[32;1m\u001B[1;3mAI: 당신은 일정관리 시스템 입니다. 일정관리를 위해 필요한 slot, value를 추출합니다.\n",
      "\n",
      "event_name이 확실하지 않을 땐 추출하지 않습니다.\n",
      "time은 HH:MM 형식으로 출력합니다.\n",
      "date는 YYYY-MM-DD 형식으로 출력합니다.\n",
      "\n",
      "현재날짜: 2023-12-22 01:38\n",
      "\n",
      "Human: 내일 일정을 조회해줘\u001B[0m\n",
      "\n",
      "\u001B[1m> Finished chain.\u001B[0m\n"
     ]
    }
   ],
   "source": [
    "inp = '내일 일정을 조회해줘'\n",
    "nlu_result = prompt_agent.run_nlu_chain(inp=inp)"
   ],
   "metadata": {
    "collapsed": false,
    "is_executing": true
   },
   "id": "211f0b029f82586"
  },
  {
   "cell_type": "code",
   "execution_count": 62,
   "outputs": [
    {
     "data": {
      "text/plain": "{'event_name': '', 'action': 'read', 'date': '2023-12-23', 'time': ''}"
     },
     "execution_count": 62,
     "metadata": {},
     "output_type": "execute_result"
    }
   ],
   "source": [
    "nlu_result"
   ],
   "metadata": {
    "collapsed": false,
    "ExecuteTime": {
     "end_time": "2023-12-21T16:38:35.631007Z",
     "start_time": "2023-12-21T16:38:35.624245Z"
    }
   },
   "id": "1fb4fe4684df6c7e"
  },
  {
   "cell_type": "markdown",
   "source": [
    "#### Update Dialog State"
   ],
   "metadata": {
    "collapsed": false
   },
   "id": "9454fcb425b872f4"
  },
  {
   "cell_type": "code",
   "execution_count": 63,
   "outputs": [],
   "source": [
    "user_action = nlu_result['action']\n",
    "\n",
    "if user_action == 'read':\n",
    "    schedule_db = schedule_list\n",
    "else:\n",
    "    schedule_db = []\n",
    "\n",
    "dialog_state = prompt_agent.update_dialog_state(dialog_state=dialog_state, db=schedule_db)"
   ],
   "metadata": {
    "collapsed": false,
    "ExecuteTime": {
     "end_time": "2023-12-21T16:38:35.635556Z",
     "start_time": "2023-12-21T16:38:35.631310Z"
    }
   },
   "id": "2d4a9f842f6306bc"
  },
  {
   "cell_type": "code",
   "execution_count": 64,
   "outputs": [
    {
     "data": {
      "text/plain": "{'event_name': '',\n 'action': '',\n 'date': '',\n 'time': '',\n 'db': [{'event_name': '산책가기', 'date': '2023-12-22', 'time': '10:00'},\n  {'event_name': '데이트', 'date': '2023-12-23', 'time': '12:00'}]}"
     },
     "execution_count": 64,
     "metadata": {},
     "output_type": "execute_result"
    }
   ],
   "source": [
    "dialog_state"
   ],
   "metadata": {
    "collapsed": false,
    "ExecuteTime": {
     "end_time": "2023-12-21T16:38:35.667547Z",
     "start_time": "2023-12-21T16:38:35.636951Z"
    }
   },
   "id": "729049bd07e0a198"
  },
  {
   "cell_type": "markdown",
   "source": [
    "### Run DST Chain"
   ],
   "metadata": {
    "collapsed": false
   },
   "id": "d154f6504797798d"
  },
  {
   "cell_type": "code",
   "execution_count": 65,
   "outputs": [
    {
     "name": "stdout",
     "output_type": "stream",
     "text": [
      "\n",
      "\n",
      "\u001B[1m> Entering new LLMChain chain...\u001B[0m\n",
      "Prompt after formatting:\n",
      "\u001B[32;1m\u001B[1;3mAI: 당신은 일정관리 시스템의 Dialog State Tracker 입니다. \n",
      "일정관리를 위해 nlu_result를 분석하여 dialog_state를 업데이트 하세요.\n",
      "read를 수행하기 위해서는 1개 이상의 db가 필요합니다.\n",
      "update, delete를 수행하기 위해서는 오직 1개의 db만 필요합니다.\n",
      "업데이트 된 dialog_state에는 현재 dialog_state db에 있는 값 중 slot, value 조건에 맞는 값만 남겨놓습니다.\n",
      "\n",
      "\n",
      "# data\n",
      "nlu_result: {'event_name': '', 'action': 'read', 'date': '2023-12-23', 'time': ''}\n",
      "dialog_state: {'event_name': '', 'action': '', 'date': '', 'time': '', 'db': [{'event_name': '산책가기', 'date': '2023-12-22', 'time': '10:00'}, {'event_name': '데이트', 'date': '2023-12-23', 'time': '12:00'}]}\n",
      "현재날짜: 2023-12-22 01:38\n",
      "\n",
      "# 응답\n",
      "- 업데이트된 dialog_state 를 dict 형태로 출력\n",
      "\u001B[0m\n",
      "\n",
      "\u001B[1m> Finished chain.\u001B[0m\n"
     ]
    }
   ],
   "source": [
    "dst_result = prompt_agent.run_dst_chain(dialog_state=dialog_state, nlu_result=nlu_result)\n",
    "dialog_state = dst_result"
   ],
   "metadata": {
    "collapsed": false,
    "ExecuteTime": {
     "end_time": "2023-12-21T16:38:37.454830Z",
     "start_time": "2023-12-21T16:38:35.643471Z"
    }
   },
   "id": "125741af07c82306"
  },
  {
   "cell_type": "code",
   "execution_count": 66,
   "outputs": [
    {
     "data": {
      "text/plain": "{'event_name': '',\n 'action': 'read',\n 'date': '2023-12-23',\n 'time': '',\n 'db': [{'event_name': '데이트', 'date': '2023-12-23', 'time': '12:00'}]}"
     },
     "execution_count": 66,
     "metadata": {},
     "output_type": "execute_result"
    }
   ],
   "source": [
    "dialog_state"
   ],
   "metadata": {
    "collapsed": false,
    "ExecuteTime": {
     "end_time": "2023-12-21T16:38:37.462640Z",
     "start_time": "2023-12-21T16:38:37.456034Z"
    }
   },
   "id": "2b7104c1e236856a"
  },
  {
   "cell_type": "markdown",
   "source": [
    "#### Update Dialog State"
   ],
   "metadata": {
    "collapsed": false
   },
   "id": "379466a6ff2fc8ce"
  },
  {
   "cell_type": "code",
   "execution_count": 67,
   "outputs": [],
   "source": [
    "dialog_state = prompt_agent.update_dialog_state(dialog_state=dialog_state)"
   ],
   "metadata": {
    "collapsed": false,
    "ExecuteTime": {
     "end_time": "2023-12-21T16:38:37.463652Z",
     "start_time": "2023-12-21T16:38:37.459567Z"
    }
   },
   "id": "ed2afb819f0a605a"
  },
  {
   "cell_type": "code",
   "execution_count": 68,
   "outputs": [
    {
     "data": {
      "text/plain": "{'event_name': '',\n 'action': 'read',\n 'date': '2023-12-23',\n 'time': '',\n 'db': [{'event_name': '데이트', 'date': '2023-12-23', 'time': '12:00'}]}"
     },
     "execution_count": 68,
     "metadata": {},
     "output_type": "execute_result"
    }
   ],
   "source": [
    "dialog_state"
   ],
   "metadata": {
    "collapsed": false,
    "ExecuteTime": {
     "end_time": "2023-12-21T16:38:37.466485Z",
     "start_time": "2023-12-21T16:38:37.463107Z"
    }
   },
   "id": "ab8176fcf26d012"
  },
  {
   "cell_type": "markdown",
   "source": [
    "### Run DP Chain"
   ],
   "metadata": {
    "collapsed": false
   },
   "id": "dc9852b3d40233cd"
  },
  {
   "cell_type": "code",
   "execution_count": 69,
   "outputs": [
    {
     "name": "stdout",
     "output_type": "stream",
     "text": [
      "\n",
      "\n",
      "\u001B[1m> Entering new LLMChain chain...\u001B[0m\n",
      "Prompt after formatting:\n",
      "\u001B[32;1m\u001B[1;3mAI: 당신은 일정관리 시스템의 Dialog Policy 입니다.\n",
      "dialog_state를 분석하여 system_action을 결정하세요.\n",
      "\n",
      "# data\n",
      "dialog_state: {'event_name': '', 'action': 'read', 'date': '2023-12-23', 'time': '', 'db': [{'event_name': '데이트', 'date': '2023-12-23', 'time': '12:00'}]}\n",
      "현재날짜: 2023-12-22 01:38\n",
      "\n",
      "# 응답\n",
      "- 형식: system_action을 dict 형태로 출력\n",
      "- keys:\n",
      "  - system_action: (Required) \n",
      "    - inform: 정보를 알려줄 때\n",
      "    - request: 부족한 정보를 물어볼 때 slot을 함께 출력\n",
      "    - run_action: 필요한 정보를 충족할 경우 dialog_state의 action을 수행\n",
      "  - slot: event_name, date, time (Optional)\n",
      "  - value: str (Optional)\n",
      "\u001B[0m\n",
      "\n",
      "\u001B[1m> Finished chain.\u001B[0m\n"
     ]
    }
   ],
   "source": [
    "system_state = prompt_agent.run_dp_chain(dialog_state=dialog_state)"
   ],
   "metadata": {
    "collapsed": false,
    "ExecuteTime": {
     "end_time": "2023-12-21T16:38:38.078883Z",
     "start_time": "2023-12-21T16:38:37.466858Z"
    }
   },
   "id": "fd14ec79cb068008"
  },
  {
   "cell_type": "code",
   "execution_count": 70,
   "outputs": [
    {
     "data": {
      "text/plain": "{'system_action': 'run_action'}"
     },
     "execution_count": 70,
     "metadata": {},
     "output_type": "execute_result"
    }
   ],
   "source": [
    "system_state"
   ],
   "metadata": {
    "collapsed": false,
    "ExecuteTime": {
     "end_time": "2023-12-21T16:38:38.090114Z",
     "start_time": "2023-12-21T16:38:38.083475Z"
    }
   },
   "id": "7e28d67a07e07b13"
  },
  {
   "cell_type": "markdown",
   "source": [
    "#### Update System State"
   ],
   "metadata": {
    "collapsed": false
   },
   "id": "80757360e3beff38"
  },
  {
   "cell_type": "code",
   "execution_count": 71,
   "outputs": [],
   "source": [
    "system_state = prompt_agent.update_system_state(system_state=system_state, dialog_state=dialog_state)"
   ],
   "metadata": {
    "collapsed": false,
    "ExecuteTime": {
     "end_time": "2023-12-21T16:38:38.099668Z",
     "start_time": "2023-12-21T16:38:38.089323Z"
    }
   },
   "id": "8e34033453e9c168"
  },
  {
   "cell_type": "code",
   "execution_count": 72,
   "outputs": [
    {
     "data": {
      "text/plain": "{'system_action': 'run_action',\n 'db': [{'event_name': '데이트', 'date': '2023-12-23', 'time': '12:00'}],\n 'action': 'read'}"
     },
     "execution_count": 72,
     "metadata": {},
     "output_type": "execute_result"
    }
   ],
   "source": [
    "system_state"
   ],
   "metadata": {
    "collapsed": false,
    "ExecuteTime": {
     "end_time": "2023-12-21T16:38:38.124924Z",
     "start_time": "2023-12-21T16:38:38.094051Z"
    }
   },
   "id": "62d767e568cbc976"
  },
  {
   "cell_type": "markdown",
   "source": [
    "### Run NLG Chain"
   ],
   "metadata": {
    "collapsed": false
   },
   "id": "e897439f5fcdb12e"
  },
  {
   "cell_type": "code",
   "execution_count": 73,
   "outputs": [
    {
     "name": "stdout",
     "output_type": "stream",
     "text": [
      "\n",
      "\n",
      "\u001B[1m> Entering new LLMChain chain...\u001B[0m\n",
      "Prompt after formatting:\n",
      "\u001B[32;1m\u001B[1;3mAI: 당신은 일정관리 시스템의 Natural Language Generator 입니다.\n",
      "system_stater값을 이용하여 user에게 자연어 형태로 응답하세요.\n",
      "\n",
      "# data\n",
      "system_state: {'system_action': 'run_action', 'db': [{'event_name': '데이트', 'date': '2023-12-23', 'time': '12:00'}], 'action': 'read'}\n",
      "현재날짜: 2023-12-22 01:38\n",
      "\n",
      "# 응답\n",
      "- 자연어 형태로 출력\n",
      "\u001B[0m\n",
      "\n",
      "\u001B[1m> Finished chain.\u001B[0m\n"
     ]
    }
   ],
   "source": [
    "nlg_result = prompt_agent.run_nlg_chain(system_state)"
   ],
   "metadata": {
    "collapsed": false,
    "ExecuteTime": {
     "end_time": "2023-12-21T16:38:39.515350Z",
     "start_time": "2023-12-21T16:38:38.099525Z"
    }
   },
   "id": "2caaf67e2bb6aef2"
  },
  {
   "cell_type": "code",
   "execution_count": 74,
   "outputs": [
    {
     "data": {
      "text/plain": "'당신의 데이트 일정은 2023년 12월 23일 12시에 예정되어 있습니다.'"
     },
     "execution_count": 74,
     "metadata": {},
     "output_type": "execute_result"
    }
   ],
   "source": [
    "nlg_result"
   ],
   "metadata": {
    "collapsed": false,
    "ExecuteTime": {
     "end_time": "2023-12-21T16:38:39.518995Z",
     "start_time": "2023-12-21T16:38:39.510477Z"
    }
   },
   "id": "de5bbbdd8dfbc8c4"
  },
  {
   "cell_type": "markdown",
   "source": [
    "### Run NLU Chain (2nd turn)"
   ],
   "metadata": {
    "collapsed": false
   },
   "id": "db0ff312755dd3d9"
  },
  {
   "cell_type": "code",
   "execution_count": 75,
   "outputs": [
    {
     "name": "stdout",
     "output_type": "stream",
     "text": [
      "\n",
      "\n",
      "\u001B[1m> Entering new LLMChain chain...\u001B[0m\n",
      "Prompt after formatting:\n",
      "\u001B[32;1m\u001B[1;3mAI: 당신은 일정관리 시스템 입니다. 일정관리를 위해 필요한 slot, value를 추출합니다.\n",
      "\n",
      "event_name이 확실하지 않을 땐 추출하지 않습니다.\n",
      "time은 HH:MM 형식으로 출력합니다.\n",
      "date는 YYYY-MM-DD 형식으로 출력합니다.\n",
      "\n",
      "현재날짜: 2023-12-22 01:38\n",
      "\n",
      "Human: 일정을 이틀 후로 변경해줘\u001B[0m\n",
      "\n",
      "\u001B[1m> Finished chain.\u001B[0m\n"
     ]
    }
   ],
   "source": [
    "inp = '일정을 이틀 후로 변경해줘'\n",
    "nlu_result = prompt_agent.run_nlu_chain(inp=inp)"
   ],
   "metadata": {
    "collapsed": false,
    "ExecuteTime": {
     "end_time": "2023-12-21T16:38:40.846126Z",
     "start_time": "2023-12-21T16:38:39.518376Z"
    }
   },
   "id": "c4f51945cd3e7c6d"
  },
  {
   "cell_type": "code",
   "execution_count": 76,
   "outputs": [
    {
     "data": {
      "text/plain": "{'action': 'update', 'date': '2023-12-24'}"
     },
     "execution_count": 76,
     "metadata": {},
     "output_type": "execute_result"
    }
   ],
   "source": [
    "nlu_result"
   ],
   "metadata": {
    "collapsed": false,
    "ExecuteTime": {
     "end_time": "2023-12-21T16:38:40.847820Z",
     "start_time": "2023-12-21T16:38:40.841663Z"
    }
   },
   "id": "8df549625f22b931"
  },
  {
   "cell_type": "code",
   "execution_count": 77,
   "outputs": [],
   "source": [
    "user_action = nlu_result['action']\n",
    "\n",
    "if user_action == 'read':\n",
    "    schedule_db = schedule_list\n",
    "else:\n",
    "    schedule_db = []\n",
    "\n",
    "dialog_state = prompt_agent.update_dialog_state(dialog_state=dialog_state, db=schedule_db)"
   ],
   "metadata": {
    "collapsed": false,
    "ExecuteTime": {
     "end_time": "2023-12-21T16:38:40.852746Z",
     "start_time": "2023-12-21T16:38:40.847812Z"
    }
   },
   "id": "df2661d5c332e703"
  },
  {
   "cell_type": "code",
   "execution_count": 78,
   "outputs": [
    {
     "data": {
      "text/plain": "{'event_name': '',\n 'action': 'read',\n 'date': '2023-12-23',\n 'time': '',\n 'db': [{'event_name': '데이트', 'date': '2023-12-23', 'time': '12:00'}]}"
     },
     "execution_count": 78,
     "metadata": {},
     "output_type": "execute_result"
    }
   ],
   "source": [
    "dialog_state"
   ],
   "metadata": {
    "collapsed": false,
    "ExecuteTime": {
     "end_time": "2023-12-21T16:38:40.855762Z",
     "start_time": "2023-12-21T16:38:40.852672Z"
    }
   },
   "id": "e61227dbb71652e2"
  },
  {
   "cell_type": "markdown",
   "source": [
    "### Run DST Chain (2nd turn)"
   ],
   "metadata": {
    "collapsed": false
   },
   "id": "d57a2d0b3d666b63"
  },
  {
   "cell_type": "code",
   "execution_count": 79,
   "outputs": [
    {
     "name": "stdout",
     "output_type": "stream",
     "text": [
      "\n",
      "\n",
      "\u001B[1m> Entering new LLMChain chain...\u001B[0m\n",
      "Prompt after formatting:\n",
      "\u001B[32;1m\u001B[1;3mAI: 당신은 일정관리 시스템의 Dialog State Tracker 입니다. \n",
      "일정관리를 위해 nlu_result를 분석하여 dialog_state를 업데이트 하세요.\n",
      "read를 수행하기 위해서는 1개 이상의 db가 필요합니다.\n",
      "update, delete를 수행하기 위해서는 오직 1개의 db만 필요합니다.\n",
      "업데이트 된 dialog_state에는 현재 dialog_state db에 있는 값 중 slot, value 조건에 맞는 값만 남겨놓습니다.\n",
      "\n",
      "\n",
      "# data\n",
      "nlu_result: {'action': 'update', 'date': '2023-12-24'}\n",
      "dialog_state: {'event_name': '', 'action': 'read', 'date': '2023-12-23', 'time': '', 'db': [{'event_name': '데이트', 'date': '2023-12-23', 'time': '12:00'}]}\n",
      "현재날짜: 2023-12-22 01:38\n",
      "\n",
      "# 응답\n",
      "- 업데이트된 dialog_state 를 dict 형태로 출력\n",
      "\u001B[0m\n",
      "\n",
      "\u001B[1m> Finished chain.\u001B[0m\n"
     ]
    }
   ],
   "source": [
    "dst_result = prompt_agent.run_dst_chain(dialog_state=dialog_state, nlu_result=nlu_result)\n",
    "dialog_state = dst_result"
   ],
   "metadata": {
    "collapsed": false,
    "ExecuteTime": {
     "end_time": "2023-12-21T16:38:43.359779Z",
     "start_time": "2023-12-21T16:38:40.857529Z"
    }
   },
   "id": "ebfdcf7832206a1b"
  },
  {
   "cell_type": "code",
   "execution_count": 80,
   "outputs": [
    {
     "data": {
      "text/plain": "{'event_name': '',\n 'action': 'update',\n 'date': '2023-12-24',\n 'time': '',\n 'db': [{'event_name': '데이트', 'date': '2023-12-23', 'time': '12:00'}]}"
     },
     "execution_count": 80,
     "metadata": {},
     "output_type": "execute_result"
    }
   ],
   "source": [
    "dialog_state"
   ],
   "metadata": {
    "collapsed": false,
    "ExecuteTime": {
     "end_time": "2023-12-21T16:38:43.361893Z",
     "start_time": "2023-12-21T16:38:43.354241Z"
    }
   },
   "id": "16722f75896ef9c2"
  },
  {
   "cell_type": "code",
   "execution_count": 81,
   "outputs": [],
   "source": [
    "dialog_state = prompt_agent.update_dialog_state(dialog_state=dialog_state)"
   ],
   "metadata": {
    "collapsed": false,
    "ExecuteTime": {
     "end_time": "2023-12-21T16:38:43.374747Z",
     "start_time": "2023-12-21T16:38:43.360898Z"
    }
   },
   "id": "5ff844f9a93ce553"
  },
  {
   "cell_type": "code",
   "execution_count": 82,
   "outputs": [
    {
     "data": {
      "text/plain": "{'event_name': '데이트',\n 'action': 'update',\n 'date': '2023-12-24',\n 'time': '12:00',\n 'db': [{'event_name': '데이트', 'date': '2023-12-23', 'time': '12:00'}]}"
     },
     "execution_count": 82,
     "metadata": {},
     "output_type": "execute_result"
    }
   ],
   "source": [
    "dialog_state"
   ],
   "metadata": {
    "collapsed": false,
    "ExecuteTime": {
     "end_time": "2023-12-21T16:38:43.400001Z",
     "start_time": "2023-12-21T16:38:43.365468Z"
    }
   },
   "id": "6f542b570aafb468"
  },
  {
   "cell_type": "markdown",
   "source": [
    "### Run DP Chain (2nd turn)"
   ],
   "metadata": {
    "collapsed": false
   },
   "id": "420d80899f6bedab"
  },
  {
   "cell_type": "code",
   "execution_count": 83,
   "outputs": [
    {
     "name": "stdout",
     "output_type": "stream",
     "text": [
      "\n",
      "\n",
      "\u001B[1m> Entering new LLMChain chain...\u001B[0m\n",
      "Prompt after formatting:\n",
      "\u001B[32;1m\u001B[1;3mAI: 당신은 일정관리 시스템의 Dialog Policy 입니다.\n",
      "dialog_state를 분석하여 system_action을 결정하세요.\n",
      "\n",
      "# data\n",
      "dialog_state: {'event_name': '데이트', 'action': 'update', 'date': '2023-12-24', 'time': '12:00', 'db': [{'event_name': '데이트', 'date': '2023-12-23', 'time': '12:00'}]}\n",
      "현재날짜: 2023-12-22 01:38\n",
      "\n",
      "# 응답\n",
      "- 형식: system_action을 dict 형태로 출력\n",
      "- keys:\n",
      "  - system_action: (Required) \n",
      "    - inform: 정보를 알려줄 때\n",
      "    - request: 부족한 정보를 물어볼 때 slot을 함께 출력\n",
      "    - run_action: 필요한 정보를 충족할 경우 dialog_state의 action을 수행\n",
      "  - slot: event_name, date, time (Optional)\n",
      "  - value: str (Optional)\n",
      "\u001B[0m\n",
      "\n",
      "\u001B[1m> Finished chain.\u001B[0m\n"
     ]
    }
   ],
   "source": [
    "system_state = prompt_agent.run_dp_chain(dialog_state=dialog_state)"
   ],
   "metadata": {
    "collapsed": false,
    "ExecuteTime": {
     "end_time": "2023-12-21T16:38:44.254741Z",
     "start_time": "2023-12-21T16:38:43.373054Z"
    }
   },
   "id": "9cb84abcf6457642"
  },
  {
   "cell_type": "code",
   "execution_count": 84,
   "outputs": [
    {
     "data": {
      "text/plain": "{'system_action': 'run_action'}"
     },
     "execution_count": 84,
     "metadata": {},
     "output_type": "execute_result"
    }
   ],
   "source": [
    "system_state"
   ],
   "metadata": {
    "collapsed": false,
    "ExecuteTime": {
     "end_time": "2023-12-21T16:38:44.257322Z",
     "start_time": "2023-12-21T16:38:44.252118Z"
    }
   },
   "id": "71d1c427871b9c43"
  },
  {
   "cell_type": "code",
   "execution_count": 85,
   "outputs": [],
   "source": [
    "system_state = prompt_agent.update_system_state(system_state=system_state, dialog_state=dialog_state)"
   ],
   "metadata": {
    "collapsed": false,
    "ExecuteTime": {
     "end_time": "2023-12-21T16:38:44.259897Z",
     "start_time": "2023-12-21T16:38:44.256832Z"
    }
   },
   "id": "877075a01992ba38"
  },
  {
   "cell_type": "code",
   "execution_count": 86,
   "outputs": [
    {
     "data": {
      "text/plain": "{'system_action': 'run_action',\n 'event_name': '데이트',\n 'date': '2023-12-24',\n 'time': '12:00',\n 'action': 'update'}"
     },
     "execution_count": 86,
     "metadata": {},
     "output_type": "execute_result"
    }
   ],
   "source": [
    "system_state"
   ],
   "metadata": {
    "collapsed": false,
    "ExecuteTime": {
     "end_time": "2023-12-21T16:38:44.263551Z",
     "start_time": "2023-12-21T16:38:44.260663Z"
    }
   },
   "id": "b8319c68d48e9388"
  },
  {
   "cell_type": "markdown",
   "source": [
    "### Run NLG Chain (2nd turn)"
   ],
   "metadata": {
    "collapsed": false
   },
   "id": "b5e805b2ab3792c5"
  },
  {
   "cell_type": "code",
   "execution_count": 87,
   "outputs": [
    {
     "name": "stdout",
     "output_type": "stream",
     "text": [
      "\n",
      "\n",
      "\u001B[1m> Entering new LLMChain chain...\u001B[0m\n",
      "Prompt after formatting:\n",
      "\u001B[32;1m\u001B[1;3mAI: 당신은 일정관리 시스템의 Natural Language Generator 입니다.\n",
      "system_stater값을 이용하여 user에게 자연어 형태로 응답하세요.\n",
      "\n",
      "# data\n",
      "system_state: {'system_action': 'run_action', 'event_name': '데이트', 'date': '2023-12-24', 'time': '12:00', 'action': 'update'}\n",
      "현재날짜: 2023-12-22 01:38\n",
      "\n",
      "# 응답\n",
      "- 자연어 형태로 출력\n",
      "\u001B[0m\n",
      "\n",
      "\u001B[1m> Finished chain.\u001B[0m\n"
     ]
    }
   ],
   "source": [
    "nlg_result = prompt_agent.run_nlg_chain(system_state)"
   ],
   "metadata": {
    "collapsed": false,
    "ExecuteTime": {
     "end_time": "2023-12-21T16:38:45.475642Z",
     "start_time": "2023-12-21T16:38:44.266Z"
    }
   },
   "id": "b4fbbd662dba459a"
  },
  {
   "cell_type": "code",
   "execution_count": 88,
   "outputs": [
    {
     "data": {
      "text/plain": "'데이트 일정이 2023년 12월 24일 12시로 업데이트되었습니다.'"
     },
     "execution_count": 88,
     "metadata": {},
     "output_type": "execute_result"
    }
   ],
   "source": [
    "nlg_result"
   ],
   "metadata": {
    "collapsed": false,
    "ExecuteTime": {
     "end_time": "2023-12-21T16:38:45.482740Z",
     "start_time": "2023-12-21T16:38:45.476510Z"
    }
   },
   "id": "3f499fc41512fc0c"
  },
  {
   "cell_type": "code",
   "execution_count": 88,
   "outputs": [],
   "source": [],
   "metadata": {
    "collapsed": false,
    "ExecuteTime": {
     "end_time": "2023-12-21T16:38:45.508483Z",
     "start_time": "2023-12-21T16:38:45.482200Z"
    }
   },
   "id": "f2f4f16c4ca21a33"
  }
 ],
 "metadata": {
  "kernelspec": {
   "display_name": "Python 3",
   "language": "python",
   "name": "python3"
  },
  "language_info": {
   "codemirror_mode": {
    "name": "ipython",
    "version": 2
   },
   "file_extension": ".py",
   "mimetype": "text/x-python",
   "name": "python",
   "nbconvert_exporter": "python",
   "pygments_lexer": "ipython2",
   "version": "2.7.6"
  }
 },
 "nbformat": 4,
 "nbformat_minor": 5
}
