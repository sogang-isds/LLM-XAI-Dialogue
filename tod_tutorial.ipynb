{
 "cells": [
  {
   "cell_type": "markdown",
   "source": [
    "# Task Oriented Dialogue System with LLM"
   ],
   "metadata": {
    "collapsed": false
   },
   "id": "71266ef51177b3a1"
  },
  {
   "cell_type": "code",
   "execution_count": 89,
   "outputs": [
    {
     "name": "stdout",
     "output_type": "stream",
     "text": [
      "Collecting openai==1.6.0\r\n",
      "  Downloading openai-1.6.0-py3-none-any.whl.metadata (17 kB)\r\n",
      "Requirement already satisfied: langchain==0.0.350 in /Users/lifefeel/PythonVirtualEnv/XAI_Law/lib/python3.10/site-packages (0.0.350)\r\n",
      "Requirement already satisfied: anyio<5,>=3.5.0 in /Users/lifefeel/PythonVirtualEnv/XAI_Law/lib/python3.10/site-packages (from openai==1.6.0) (3.7.1)\r\n",
      "Requirement already satisfied: distro<2,>=1.7.0 in /Users/lifefeel/PythonVirtualEnv/XAI_Law/lib/python3.10/site-packages (from openai==1.6.0) (1.8.0)\r\n",
      "Requirement already satisfied: httpx<1,>=0.23.0 in /Users/lifefeel/PythonVirtualEnv/XAI_Law/lib/python3.10/site-packages (from openai==1.6.0) (0.24.1)\r\n",
      "Requirement already satisfied: pydantic<3,>=1.9.0 in /Users/lifefeel/PythonVirtualEnv/XAI_Law/lib/python3.10/site-packages (from openai==1.6.0) (2.5.2)\r\n",
      "Requirement already satisfied: sniffio in /Users/lifefeel/PythonVirtualEnv/XAI_Law/lib/python3.10/site-packages (from openai==1.6.0) (1.3.0)\r\n",
      "Requirement already satisfied: tqdm>4 in /Users/lifefeel/PythonVirtualEnv/XAI_Law/lib/python3.10/site-packages (from openai==1.6.0) (4.65.0)\r\n",
      "Requirement already satisfied: typing-extensions<5,>=4.7 in /Users/lifefeel/PythonVirtualEnv/XAI_Law/lib/python3.10/site-packages (from openai==1.6.0) (4.9.0)\r\n",
      "Requirement already satisfied: PyYAML>=5.3 in /Users/lifefeel/PythonVirtualEnv/XAI_Law/lib/python3.10/site-packages (from langchain==0.0.350) (6.0)\r\n",
      "Requirement already satisfied: SQLAlchemy<3,>=1.4 in /Users/lifefeel/PythonVirtualEnv/XAI_Law/lib/python3.10/site-packages (from langchain==0.0.350) (2.0.15)\r\n",
      "Requirement already satisfied: aiohttp<4.0.0,>=3.8.3 in /Users/lifefeel/PythonVirtualEnv/XAI_Law/lib/python3.10/site-packages (from langchain==0.0.350) (3.8.4)\r\n",
      "Requirement already satisfied: async-timeout<5.0.0,>=4.0.0 in /Users/lifefeel/PythonVirtualEnv/XAI_Law/lib/python3.10/site-packages (from langchain==0.0.350) (4.0.2)\r\n",
      "Requirement already satisfied: dataclasses-json<0.7,>=0.5.7 in /Users/lifefeel/PythonVirtualEnv/XAI_Law/lib/python3.10/site-packages (from langchain==0.0.350) (0.5.7)\r\n",
      "Requirement already satisfied: jsonpatch<2.0,>=1.33 in /Users/lifefeel/PythonVirtualEnv/XAI_Law/lib/python3.10/site-packages (from langchain==0.0.350) (1.33)\r\n",
      "Requirement already satisfied: langchain-community<0.1,>=0.0.2 in /Users/lifefeel/PythonVirtualEnv/XAI_Law/lib/python3.10/site-packages (from langchain==0.0.350) (0.0.3)\r\n",
      "Requirement already satisfied: langchain-core<0.2,>=0.1 in /Users/lifefeel/PythonVirtualEnv/XAI_Law/lib/python3.10/site-packages (from langchain==0.0.350) (0.1.1)\r\n",
      "Requirement already satisfied: langsmith<0.1.0,>=0.0.63 in /Users/lifefeel/PythonVirtualEnv/XAI_Law/lib/python3.10/site-packages (from langchain==0.0.350) (0.0.71)\r\n",
      "Requirement already satisfied: numpy<2,>=1 in /Users/lifefeel/PythonVirtualEnv/XAI_Law/lib/python3.10/site-packages (from langchain==0.0.350) (1.24.3)\r\n",
      "Requirement already satisfied: requests<3,>=2 in /Users/lifefeel/PythonVirtualEnv/XAI_Law/lib/python3.10/site-packages (from langchain==0.0.350) (2.31.0)\r\n",
      "Requirement already satisfied: tenacity<9.0.0,>=8.1.0 in /Users/lifefeel/PythonVirtualEnv/XAI_Law/lib/python3.10/site-packages (from langchain==0.0.350) (8.2.2)\r\n",
      "Requirement already satisfied: attrs>=17.3.0 in /Users/lifefeel/PythonVirtualEnv/XAI_Law/lib/python3.10/site-packages (from aiohttp<4.0.0,>=3.8.3->langchain==0.0.350) (23.1.0)\r\n",
      "Requirement already satisfied: charset-normalizer<4.0,>=2.0 in /Users/lifefeel/PythonVirtualEnv/XAI_Law/lib/python3.10/site-packages (from aiohttp<4.0.0,>=3.8.3->langchain==0.0.350) (3.1.0)\r\n",
      "Requirement already satisfied: multidict<7.0,>=4.5 in /Users/lifefeel/PythonVirtualEnv/XAI_Law/lib/python3.10/site-packages (from aiohttp<4.0.0,>=3.8.3->langchain==0.0.350) (6.0.4)\r\n",
      "Requirement already satisfied: yarl<2.0,>=1.0 in /Users/lifefeel/PythonVirtualEnv/XAI_Law/lib/python3.10/site-packages (from aiohttp<4.0.0,>=3.8.3->langchain==0.0.350) (1.9.2)\r\n",
      "Requirement already satisfied: frozenlist>=1.1.1 in /Users/lifefeel/PythonVirtualEnv/XAI_Law/lib/python3.10/site-packages (from aiohttp<4.0.0,>=3.8.3->langchain==0.0.350) (1.3.3)\r\n",
      "Requirement already satisfied: aiosignal>=1.1.2 in /Users/lifefeel/PythonVirtualEnv/XAI_Law/lib/python3.10/site-packages (from aiohttp<4.0.0,>=3.8.3->langchain==0.0.350) (1.3.1)\r\n",
      "Requirement already satisfied: idna>=2.8 in /Users/lifefeel/PythonVirtualEnv/XAI_Law/lib/python3.10/site-packages (from anyio<5,>=3.5.0->openai==1.6.0) (3.4)\r\n",
      "Requirement already satisfied: exceptiongroup in /Users/lifefeel/PythonVirtualEnv/XAI_Law/lib/python3.10/site-packages (from anyio<5,>=3.5.0->openai==1.6.0) (1.1.1)\r\n",
      "Requirement already satisfied: marshmallow<4.0.0,>=3.3.0 in /Users/lifefeel/PythonVirtualEnv/XAI_Law/lib/python3.10/site-packages (from dataclasses-json<0.7,>=0.5.7->langchain==0.0.350) (3.19.0)\r\n",
      "Requirement already satisfied: marshmallow-enum<2.0.0,>=1.5.1 in /Users/lifefeel/PythonVirtualEnv/XAI_Law/lib/python3.10/site-packages (from dataclasses-json<0.7,>=0.5.7->langchain==0.0.350) (1.5.1)\r\n",
      "Requirement already satisfied: typing-inspect>=0.4.0 in /Users/lifefeel/PythonVirtualEnv/XAI_Law/lib/python3.10/site-packages (from dataclasses-json<0.7,>=0.5.7->langchain==0.0.350) (0.9.0)\r\n",
      "Requirement already satisfied: certifi in /Users/lifefeel/PythonVirtualEnv/XAI_Law/lib/python3.10/site-packages (from httpx<1,>=0.23.0->openai==1.6.0) (2023.5.7)\r\n",
      "Requirement already satisfied: httpcore<0.18.0,>=0.15.0 in /Users/lifefeel/PythonVirtualEnv/XAI_Law/lib/python3.10/site-packages (from httpx<1,>=0.23.0->openai==1.6.0) (0.17.2)\r\n",
      "Requirement already satisfied: jsonpointer>=1.9 in /Users/lifefeel/PythonVirtualEnv/XAI_Law/lib/python3.10/site-packages (from jsonpatch<2.0,>=1.33->langchain==0.0.350) (2.3)\r\n",
      "Requirement already satisfied: packaging<24.0,>=23.2 in /Users/lifefeel/PythonVirtualEnv/XAI_Law/lib/python3.10/site-packages (from langchain-core<0.2,>=0.1->langchain==0.0.350) (23.2)\r\n",
      "Requirement already satisfied: annotated-types>=0.4.0 in /Users/lifefeel/PythonVirtualEnv/XAI_Law/lib/python3.10/site-packages (from pydantic<3,>=1.9.0->openai==1.6.0) (0.6.0)\r\n",
      "Requirement already satisfied: pydantic-core==2.14.5 in /Users/lifefeel/PythonVirtualEnv/XAI_Law/lib/python3.10/site-packages (from pydantic<3,>=1.9.0->openai==1.6.0) (2.14.5)\r\n",
      "Requirement already satisfied: urllib3<3,>=1.21.1 in /Users/lifefeel/PythonVirtualEnv/XAI_Law/lib/python3.10/site-packages (from requests<3,>=2->langchain==0.0.350) (2.0.2)\r\n",
      "Requirement already satisfied: greenlet!=0.4.17 in /Users/lifefeel/PythonVirtualEnv/XAI_Law/lib/python3.10/site-packages (from SQLAlchemy<3,>=1.4->langchain==0.0.350) (2.0.2)\r\n",
      "Requirement already satisfied: h11<0.15,>=0.13 in /Users/lifefeel/PythonVirtualEnv/XAI_Law/lib/python3.10/site-packages (from httpcore<0.18.0,>=0.15.0->httpx<1,>=0.23.0->openai==1.6.0) (0.14.0)\r\n",
      "Requirement already satisfied: mypy-extensions>=0.3.0 in /Users/lifefeel/PythonVirtualEnv/XAI_Law/lib/python3.10/site-packages (from typing-inspect>=0.4.0->dataclasses-json<0.7,>=0.5.7->langchain==0.0.350) (1.0.0)\r\n",
      "Downloading openai-1.6.0-py3-none-any.whl (225 kB)\r\n",
      "\u001B[2K   \u001B[90m━━━━━━━━━━━━━━━━━━━━━━━━━━━━━━━━━━━━━━━━\u001B[0m \u001B[32m225.4/225.4 kB\u001B[0m \u001B[31m4.7 MB/s\u001B[0m eta \u001B[36m0:00:00\u001B[0ma \u001B[36m0:00:01\u001B[0m\r\n",
      "\u001B[?25hInstalling collected packages: openai\r\n",
      "  Attempting uninstall: openai\r\n",
      "    Found existing installation: openai 1.5.0\r\n",
      "    Uninstalling openai-1.5.0:\r\n",
      "      Successfully uninstalled openai-1.5.0\r\n",
      "Successfully installed openai-1.6.0\r\n"
     ]
    }
   ],
   "source": [
    "!pip install openai==1.6.0 langchain==0.0.350"
   ],
   "metadata": {
    "collapsed": false,
    "ExecuteTime": {
     "end_time": "2023-12-21T16:57:40.322372Z",
     "start_time": "2023-12-21T16:57:37.335251Z"
    }
   },
   "id": "2e175c703d4cf332"
  },
  {
   "cell_type": "code",
   "execution_count": 90,
   "id": "initial_id",
   "metadata": {
    "collapsed": true,
    "ExecuteTime": {
     "end_time": "2023-12-21T16:57:40.329980Z",
     "start_time": "2023-12-21T16:57:40.324802Z"
    }
   },
   "outputs": [],
   "source": [
    "import os\n",
    "from datetime import datetime, timedelta\n",
    "\n",
    "from langchain.chat_models import ChatOpenAI\n",
    "from langchain.chains import LLMChain\n",
    "from langchain.prompts import (\n",
    "    ChatPromptTemplate,\n",
    "    HumanMessagePromptTemplate,\n",
    "    MessagesPlaceholder,\n",
    "    SystemMessagePromptTemplate,\n",
    "    AIMessagePromptTemplate\n",
    ")\n",
    "from langchain.chains import create_extraction_chain"
   ]
  },
  {
   "cell_type": "code",
   "execution_count": 128,
   "outputs": [],
   "source": [
    "# api_key = os.environ.get(\"OPENAI_API_KEY\")\n",
    "key = 'OPENAI_API_KEY'\n",
    "api_key = 'sk-' + key + 'bkFJm28ZY54dRNHk3u5edkod'"
   ],
   "metadata": {
    "collapsed": false,
    "ExecuteTime": {
     "end_time": "2023-12-21T16:59:25.384698Z",
     "start_time": "2023-12-21T16:59:25.366173Z"
    }
   },
   "id": "86ecea277b883676"
  },
  {
   "cell_type": "markdown",
   "source": [
    "## Prompt"
   ],
   "metadata": {
    "collapsed": false
   },
   "id": "7b3478e7e860426d"
  },
  {
   "cell_type": "markdown",
   "source": [
    "### NLU Prompt"
   ],
   "metadata": {
    "collapsed": false
   },
   "id": "97b4a08716d4acb8"
  },
  {
   "cell_type": "code",
   "execution_count": 129,
   "outputs": [],
   "source": [
    "nlu_prompt_text = \"\"\"당신은 일정관리 시스템 입니다. 일정관리를 위해 필요한 slot, value를 추출합니다.\n",
    "\n",
    "event_name이 확실하지 않을 땐 추출하지 않습니다.\n",
    "time은 HH:MM 형식으로 출력합니다.\n",
    "date는 YYYY-MM-DD 형식으로 출력합니다.\n",
    "\n",
    "현재날짜: {today}\n",
    "\"\"\""
   ],
   "metadata": {
    "collapsed": false,
    "ExecuteTime": {
     "end_time": "2023-12-21T16:59:29.442586Z",
     "start_time": "2023-12-21T16:59:29.419805Z"
    }
   },
   "id": "1dc1cc6eb5f5869a"
  },
  {
   "cell_type": "markdown",
   "source": [
    "### DST Prompt"
   ],
   "metadata": {
    "collapsed": false
   },
   "id": "5f771ed8cdc31725"
  },
  {
   "cell_type": "code",
   "execution_count": 130,
   "outputs": [],
   "source": [
    "dst_prompt_text = \"\"\"당신은 일정관리 시스템의 Dialog State Tracker 입니다. \n",
    "일정관리를 위해 nlu_result를 분석하여 dialog_state를 업데이트 하세요.\n",
    "read를 수행하기 위해서는 1개 이상의 db가 필요합니다.\n",
    "update, delete를 수행하기 위해서는 오직 1개의 db만 필요합니다.\n",
    "업데이트 된 dialog_state에는 현재 dialog_state db에 있는 값 중 slot, value 조건에 맞는 값만 남겨놓습니다.\n",
    "\n",
    "\n",
    "# data\n",
    "nlu_result: {nlu_result}\n",
    "dialog_state: {dialog_state}\n",
    "현재날짜: {today}\n",
    "\n",
    "# 응답\n",
    "- 업데이트된 dialog_state 를 dict 형태로 출력\n",
    "\"\"\""
   ],
   "metadata": {
    "collapsed": false,
    "ExecuteTime": {
     "end_time": "2023-12-21T16:59:32.204700Z",
     "start_time": "2023-12-21T16:59:32.182514Z"
    }
   },
   "id": "8e2e9eec76c518c9"
  },
  {
   "cell_type": "markdown",
   "source": [
    "### DP Prompt"
   ],
   "metadata": {
    "collapsed": false
   },
   "id": "f5630a212fa7c8f6"
  },
  {
   "cell_type": "code",
   "execution_count": 131,
   "outputs": [],
   "source": [
    "dp_prompt_text = \"\"\"당신은 일정관리 시스템의 Dialog Policy 입니다.\n",
    "dialog_state를 분석하여 system_action을 결정하세요.\n",
    "\n",
    "# data\n",
    "dialog_state: {dialog_state}\n",
    "현재날짜: {today}\n",
    "\n",
    "# 응답\n",
    "- 형식: system_action을 dict 형태로 출력\n",
    "- keys:\n",
    "  - system_action: (Required) \n",
    "    - inform: 정보를 알려줄 때\n",
    "    - request: 부족한 정보를 물어볼 때 slot을 함께 출력\n",
    "    - run_action: 필요한 정보를 충족할 경우 dialog_state의 action을 수행\n",
    "  - slot: event_name, date, time (Optional)\n",
    "  - value: str (Optional)\n",
    "\"\"\""
   ],
   "metadata": {
    "collapsed": false,
    "ExecuteTime": {
     "end_time": "2023-12-21T16:59:33.742004Z",
     "start_time": "2023-12-21T16:59:33.736074Z"
    }
   },
   "id": "1fcaaf22578b09da"
  },
  {
   "cell_type": "markdown",
   "source": [
    "### NLG Prompt"
   ],
   "metadata": {
    "collapsed": false
   },
   "id": "615e8f22192c4ae"
  },
  {
   "cell_type": "code",
   "execution_count": 95,
   "outputs": [],
   "source": [
    "nlg_prompt_text = \"\"\"당신은 일정관리 시스템의 Natural Language Generator 입니다.\n",
    "system_stater값을 이용하여 user에게 자연어 형태로 응답하세요.\n",
    "\n",
    "# data\n",
    "system_state: {system_state}\n",
    "현재날짜: {today}\n",
    "\n",
    "# 응답\n",
    "- 자연어 형태로 출력\n",
    "\"\"\""
   ],
   "metadata": {
    "collapsed": false,
    "ExecuteTime": {
     "end_time": "2023-12-21T16:57:40.344893Z",
     "start_time": "2023-12-21T16:57:40.342686Z"
    }
   },
   "id": "9565fad277d717cf"
  },
  {
   "cell_type": "markdown",
   "source": [
    "## Agent"
   ],
   "metadata": {
    "collapsed": false
   },
   "id": "32bcebcceb2d365b"
  },
  {
   "cell_type": "code",
   "execution_count": 96,
   "outputs": [],
   "source": [
    "class PromptAgent:\n",
    "    def __init__(self, llm, verbose=False):\n",
    "        self.dp_chain = None\n",
    "        self.nlu_chain = None\n",
    "        self.dst_chain = None\n",
    "        self.nlg_chain = None\n",
    "        self.llm = llm\n",
    "        self.verbose = verbose\n",
    "\n",
    "        self.init_nlu_chain()\n",
    "        self.init_dst_chain()\n",
    "        self.init_nlg_chain()\n",
    "        self.init_dp_chain()\n",
    "\n",
    "        self.today = datetime.today().strftime(\"%Y-%m-%d %H:%M\")\n",
    "\n",
    "    def init_nlu_chain(self):\n",
    "        schema = {\n",
    "            \"properties\": {\n",
    "                \"event_name\": {\"type\": \"string\"},\n",
    "                \"action\": {\"type\": \"string\", \"enum\": [\"create\", \"read\", \"update\", \"delete\", \"inform\", \"request\"]},\n",
    "                \"date\": {\"type\": \"string\", \"description\": \"날짜\"},\n",
    "                \"time\": {\"type\": \"string\", \"description\": \"시간\"},\n",
    "            },\n",
    "            \"required\": [\"action\"],\n",
    "        }\n",
    "\n",
    "        nlu_prompt = ChatPromptTemplate(\n",
    "            messages=[\n",
    "                AIMessagePromptTemplate.from_template(nlu_prompt_text),\n",
    "                HumanMessagePromptTemplate.from_template(\"{user_input}\"),\n",
    "            ]\n",
    "        )\n",
    "\n",
    "        self.nlu_chain = create_extraction_chain(schema, self.llm, prompt=nlu_prompt, verbose=True)\n",
    "\n",
    "    def run_nlu_chain(self, inp):\n",
    "        response = self.nlu_chain.run({'user_input': inp, 'today': self.today})\n",
    "        return response[0]\n",
    "\n",
    "    def init_dst_chain(self):\n",
    "        dst_prompt = ChatPromptTemplate(\n",
    "            messages=[\n",
    "                AIMessagePromptTemplate.from_template(dst_prompt_text),\n",
    "                # HumanMessagePromptTemplate.from_template(\"{user_input}\"),\n",
    "            ],\n",
    "            input_variables=[\"nlu_result\", \"dialog_state\", \"today\"],\n",
    "        )\n",
    "        self.dst_chain = LLMChain(llm=self.llm, prompt=dst_prompt, verbose=True)\n",
    "\n",
    "    def run_dst_chain(self, dialog_state, nlu_result):\n",
    "        response = self.dst_chain.run({'dialog_state': dialog_state, 'nlu_result': nlu_result, 'today': self.today})\n",
    "        return eval(response)\n",
    "\n",
    "    def init_dp_chain(self):\n",
    "        dp_prompt = ChatPromptTemplate(\n",
    "            messages=[\n",
    "                AIMessagePromptTemplate.from_template(dp_prompt_text),\n",
    "                # HumanMessagePromptTemplate.from_template(\"{user_input}\"),\n",
    "            ]\n",
    "        )\n",
    "        self.dp_chain = LLMChain(llm=self.llm, prompt=dp_prompt, verbose=True)\n",
    "\n",
    "    def run_dp_chain(self, dialog_state):\n",
    "        response = self.dp_chain.run({'dialog_state': dialog_state, 'today': self.today})\n",
    "        return eval(response)\n",
    "\n",
    "    def init_nlg_chain(self):\n",
    "        nlg_prompt = ChatPromptTemplate(\n",
    "            messages=[\n",
    "                AIMessagePromptTemplate.from_template(nlg_prompt_text),\n",
    "                # HumanMessagePromptTemplate.from_template(\"{user_input}\"),\n",
    "            ]\n",
    "        )\n",
    "        self.nlg_chain = LLMChain(llm=self.llm, prompt=nlg_prompt, verbose=True)\n",
    "\n",
    "    def run_nlg_chain(self, system_state):\n",
    "        response = self.nlg_chain.run({'system_state': system_state, 'today': self.today})\n",
    "        return response\n",
    "\n",
    "    def update_dialog_state(self, dialog_state, db=None):\n",
    "        action = dialog_state['action']\n",
    "\n",
    "        if db:\n",
    "            dialog_state.update({'db': db})\n",
    "\n",
    "        if action == 'read':\n",
    "            pass\n",
    "\n",
    "        elif action == 'update':\n",
    "            db = dialog_state['db']\n",
    "\n",
    "            if len(db) == 1:\n",
    "                for key, val in db[0].items():\n",
    "                    if key in dialog_state.keys():\n",
    "                        if dialog_state[key] == '':\n",
    "                            dialog_state[key] = val\n",
    "\n",
    "        return dialog_state\n",
    "\n",
    "    def update_system_state(self, system_state, dialog_state):\n",
    "        action = dialog_state['action']\n",
    "        db = dialog_state['db']\n",
    "        system_action = system_state['system_action']\n",
    "\n",
    "        if system_action == 'inform':\n",
    "            pass\n",
    "        elif system_action == 'request':\n",
    "            pass\n",
    "        elif system_action == 'run_action':\n",
    "            if action == 'read':\n",
    "                system_state['db'] = db\n",
    "            elif action == 'update':\n",
    "                # update DB\n",
    "                for key, val in db[0].items():\n",
    "                    system_state[key] = val\n",
    "                for key, val in dialog_state.items():\n",
    "                    if key != 'db':\n",
    "                        system_state[key] = val\n",
    "\n",
    "        system_state['action'] = action\n",
    "        return system_state"
   ],
   "metadata": {
    "collapsed": false,
    "ExecuteTime": {
     "end_time": "2023-12-21T16:57:40.375695Z",
     "start_time": "2023-12-21T16:57:40.345114Z"
    }
   },
   "id": "2a5aa46637fd3ce0"
  },
  {
   "cell_type": "markdown",
   "source": [
    "## TOD Example"
   ],
   "metadata": {
    "collapsed": false
   },
   "id": "2643ca085b8e2c88"
  },
  {
   "cell_type": "markdown",
   "source": [
    "### LangChain Model 생성"
   ],
   "metadata": {
    "collapsed": false
   },
   "id": "4924f598f9b700aa"
  },
  {
   "cell_type": "code",
   "execution_count": 132,
   "outputs": [],
   "source": [
    "llm = ChatOpenAI(temperature=0, model=\"gpt-3.5-turbo\", api_key=api_key)\n",
    "prompt_agent = PromptAgent(llm=llm, verbose=True)"
   ],
   "metadata": {
    "collapsed": false,
    "ExecuteTime": {
     "end_time": "2023-12-21T16:59:46.984490Z",
     "start_time": "2023-12-21T16:59:46.958060Z"
    }
   },
   "id": "a6b2226c6c777cfd"
  },
  {
   "cell_type": "markdown",
   "source": [
    "### Dialog State 초기화"
   ],
   "metadata": {
    "collapsed": false
   },
   "id": "7850a932a3c7328d"
  },
  {
   "cell_type": "code",
   "execution_count": 98,
   "outputs": [],
   "source": [
    "dialog_state = {'event_name': '', 'action': '', 'date': '', 'time': '', 'db': []}"
   ],
   "metadata": {
    "collapsed": false,
    "ExecuteTime": {
     "end_time": "2023-12-21T16:57:40.399877Z",
     "start_time": "2023-12-21T16:57:40.386002Z"
    }
   },
   "id": "1cb456802d3a060b"
  },
  {
   "cell_type": "markdown",
   "source": [
    "### 모의 DB 생성"
   ],
   "metadata": {
    "collapsed": false
   },
   "id": "8a138ca60d8252fd"
  },
  {
   "cell_type": "code",
   "execution_count": 99,
   "outputs": [],
   "source": [
    "date_today = datetime.today().strftime(\"%Y-%m-%d\")\n",
    "date_tomorrow = (datetime.today() + timedelta(days=1)).strftime(\"%Y-%m-%d\")\n",
    "schedule_list = [\n",
    "    {\n",
    "        'event_name': '산책가기',\n",
    "        'date': date_today,\n",
    "        'time': '10:00'\n",
    "    },\n",
    "    {\n",
    "        'event_name': '데이트',\n",
    "        'date': date_tomorrow,\n",
    "        'time': '12:00'\n",
    "    }\n",
    "]"
   ],
   "metadata": {
    "collapsed": false,
    "ExecuteTime": {
     "end_time": "2023-12-21T16:57:40.399941Z",
     "start_time": "2023-12-21T16:57:40.387661Z"
    }
   },
   "id": "a9d9e5f5ece0642a"
  },
  {
   "cell_type": "markdown",
   "source": [
    "### Run NLU Chain"
   ],
   "metadata": {
    "collapsed": false
   },
   "id": "4a7195945c9341b7"
  },
  {
   "cell_type": "code",
   "execution_count": 100,
   "outputs": [
    {
     "name": "stdout",
     "output_type": "stream",
     "text": [
      "\n",
      "\n",
      "\u001B[1m> Entering new LLMChain chain...\u001B[0m\n",
      "Prompt after formatting:\n",
      "\u001B[32;1m\u001B[1;3mAI: 당신은 일정관리 시스템 입니다. 일정관리를 위해 필요한 slot, value를 추출합니다.\n",
      "\n",
      "event_name이 확실하지 않을 땐 추출하지 않습니다.\n",
      "time은 HH:MM 형식으로 출력합니다.\n",
      "date는 YYYY-MM-DD 형식으로 출력합니다.\n",
      "\n",
      "현재날짜: 2023-12-22 01:57\n",
      "\n",
      "Human: 내일 일정을 조회해줘\u001B[0m\n",
      "\n",
      "\u001B[1m> Finished chain.\u001B[0m\n"
     ]
    }
   ],
   "source": [
    "inp = '내일 일정을 조회해줘'\n",
    "nlu_result = prompt_agent.run_nlu_chain(inp=inp)"
   ],
   "metadata": {
    "collapsed": false,
    "ExecuteTime": {
     "end_time": "2023-12-21T16:57:41.637490Z",
     "start_time": "2023-12-21T16:57:40.391620Z"
    }
   },
   "id": "211f0b029f82586"
  },
  {
   "cell_type": "code",
   "execution_count": 101,
   "outputs": [
    {
     "data": {
      "text/plain": "{'event_name': '', 'action': 'read', 'date': '2023-12-23', 'time': ''}"
     },
     "execution_count": 101,
     "metadata": {},
     "output_type": "execute_result"
    }
   ],
   "source": [
    "nlu_result"
   ],
   "metadata": {
    "collapsed": false,
    "ExecuteTime": {
     "end_time": "2023-12-21T16:57:41.645968Z",
     "start_time": "2023-12-21T16:57:41.639182Z"
    }
   },
   "id": "1fb4fe4684df6c7e"
  },
  {
   "cell_type": "markdown",
   "source": [
    "#### Update Dialog State"
   ],
   "metadata": {
    "collapsed": false
   },
   "id": "9454fcb425b872f4"
  },
  {
   "cell_type": "code",
   "execution_count": 102,
   "outputs": [],
   "source": [
    "user_action = nlu_result['action']\n",
    "\n",
    "if user_action == 'read':\n",
    "    schedule_db = schedule_list\n",
    "else:\n",
    "    schedule_db = []\n",
    "\n",
    "dialog_state = prompt_agent.update_dialog_state(dialog_state=dialog_state, db=schedule_db)"
   ],
   "metadata": {
    "collapsed": false,
    "ExecuteTime": {
     "end_time": "2023-12-21T16:57:41.648143Z",
     "start_time": "2023-12-21T16:57:41.643379Z"
    }
   },
   "id": "2d4a9f842f6306bc"
  },
  {
   "cell_type": "code",
   "execution_count": 103,
   "outputs": [
    {
     "data": {
      "text/plain": "{'event_name': '',\n 'action': '',\n 'date': '',\n 'time': '',\n 'db': [{'event_name': '산책가기', 'date': '2023-12-22', 'time': '10:00'},\n  {'event_name': '데이트', 'date': '2023-12-23', 'time': '12:00'}]}"
     },
     "execution_count": 103,
     "metadata": {},
     "output_type": "execute_result"
    }
   ],
   "source": [
    "dialog_state"
   ],
   "metadata": {
    "collapsed": false,
    "ExecuteTime": {
     "end_time": "2023-12-21T16:57:41.656580Z",
     "start_time": "2023-12-21T16:57:41.647170Z"
    }
   },
   "id": "729049bd07e0a198"
  },
  {
   "cell_type": "markdown",
   "source": [
    "### Run DST Chain"
   ],
   "metadata": {
    "collapsed": false
   },
   "id": "d154f6504797798d"
  },
  {
   "cell_type": "code",
   "execution_count": 104,
   "outputs": [
    {
     "name": "stdout",
     "output_type": "stream",
     "text": [
      "\n",
      "\n",
      "\u001B[1m> Entering new LLMChain chain...\u001B[0m\n",
      "Prompt after formatting:\n",
      "\u001B[32;1m\u001B[1;3mAI: 당신은 일정관리 시스템의 Dialog State Tracker 입니다. \n",
      "일정관리를 위해 nlu_result를 분석하여 dialog_state를 업데이트 하세요.\n",
      "read를 수행하기 위해서는 1개 이상의 db가 필요합니다.\n",
      "update, delete를 수행하기 위해서는 오직 1개의 db만 필요합니다.\n",
      "업데이트 된 dialog_state에는 현재 dialog_state db에 있는 값 중 slot, value 조건에 맞는 값만 남겨놓습니다.\n",
      "\n",
      "\n",
      "# data\n",
      "nlu_result: {'event_name': '', 'action': 'read', 'date': '2023-12-23', 'time': ''}\n",
      "dialog_state: {'event_name': '', 'action': '', 'date': '', 'time': '', 'db': [{'event_name': '산책가기', 'date': '2023-12-22', 'time': '10:00'}, {'event_name': '데이트', 'date': '2023-12-23', 'time': '12:00'}]}\n",
      "현재날짜: 2023-12-22 01:57\n",
      "\n",
      "# 응답\n",
      "- 업데이트된 dialog_state 를 dict 형태로 출력\n",
      "\u001B[0m\n",
      "\n",
      "\u001B[1m> Finished chain.\u001B[0m\n"
     ]
    }
   ],
   "source": [
    "dst_result = prompt_agent.run_dst_chain(dialog_state=dialog_state, nlu_result=nlu_result)\n",
    "dialog_state = dst_result"
   ],
   "metadata": {
    "collapsed": false,
    "ExecuteTime": {
     "end_time": "2023-12-21T16:57:43.721563Z",
     "start_time": "2023-12-21T16:57:41.651762Z"
    }
   },
   "id": "125741af07c82306"
  },
  {
   "cell_type": "code",
   "execution_count": 105,
   "outputs": [
    {
     "data": {
      "text/plain": "{'event_name': '',\n 'action': 'read',\n 'date': '2023-12-23',\n 'time': '',\n 'db': [{'event_name': '데이트', 'date': '2023-12-23', 'time': '12:00'}]}"
     },
     "execution_count": 105,
     "metadata": {},
     "output_type": "execute_result"
    }
   ],
   "source": [
    "dialog_state"
   ],
   "metadata": {
    "collapsed": false,
    "ExecuteTime": {
     "end_time": "2023-12-21T16:57:43.724045Z",
     "start_time": "2023-12-21T16:57:43.720077Z"
    }
   },
   "id": "2b7104c1e236856a"
  },
  {
   "cell_type": "markdown",
   "source": [
    "#### Update Dialog State"
   ],
   "metadata": {
    "collapsed": false
   },
   "id": "379466a6ff2fc8ce"
  },
  {
   "cell_type": "code",
   "execution_count": 106,
   "outputs": [],
   "source": [
    "dialog_state = prompt_agent.update_dialog_state(dialog_state=dialog_state)"
   ],
   "metadata": {
    "collapsed": false,
    "ExecuteTime": {
     "end_time": "2023-12-21T16:57:43.726882Z",
     "start_time": "2023-12-21T16:57:43.724478Z"
    }
   },
   "id": "ed2afb819f0a605a"
  },
  {
   "cell_type": "code",
   "execution_count": 107,
   "outputs": [
    {
     "data": {
      "text/plain": "{'event_name': '',\n 'action': 'read',\n 'date': '2023-12-23',\n 'time': '',\n 'db': [{'event_name': '데이트', 'date': '2023-12-23', 'time': '12:00'}]}"
     },
     "execution_count": 107,
     "metadata": {},
     "output_type": "execute_result"
    }
   ],
   "source": [
    "dialog_state"
   ],
   "metadata": {
    "collapsed": false,
    "ExecuteTime": {
     "end_time": "2023-12-21T16:57:43.733294Z",
     "start_time": "2023-12-21T16:57:43.728409Z"
    }
   },
   "id": "ab8176fcf26d012"
  },
  {
   "cell_type": "markdown",
   "source": [
    "### Run DP Chain"
   ],
   "metadata": {
    "collapsed": false
   },
   "id": "dc9852b3d40233cd"
  },
  {
   "cell_type": "code",
   "execution_count": 108,
   "outputs": [
    {
     "name": "stdout",
     "output_type": "stream",
     "text": [
      "\n",
      "\n",
      "\u001B[1m> Entering new LLMChain chain...\u001B[0m\n",
      "Prompt after formatting:\n",
      "\u001B[32;1m\u001B[1;3mAI: 당신은 일정관리 시스템의 Dialog Policy 입니다.\n",
      "dialog_state를 분석하여 system_action을 결정하세요.\n",
      "\n",
      "# data\n",
      "dialog_state: {'event_name': '', 'action': 'read', 'date': '2023-12-23', 'time': '', 'db': [{'event_name': '데이트', 'date': '2023-12-23', 'time': '12:00'}]}\n",
      "현재날짜: 2023-12-22 01:57\n",
      "\n",
      "# 응답\n",
      "- 형식: system_action을 dict 형태로 출력\n",
      "- keys:\n",
      "  - system_action: (Required) \n",
      "    - inform: 정보를 알려줄 때\n",
      "    - request: 부족한 정보를 물어볼 때 slot을 함께 출력\n",
      "    - run_action: 필요한 정보를 충족할 경우 dialog_state의 action을 수행\n",
      "  - slot: event_name, date, time (Optional)\n",
      "  - value: str (Optional)\n",
      "\u001B[0m\n",
      "\n",
      "\u001B[1m> Finished chain.\u001B[0m\n"
     ]
    }
   ],
   "source": [
    "system_state = prompt_agent.run_dp_chain(dialog_state=dialog_state)"
   ],
   "metadata": {
    "collapsed": false,
    "ExecuteTime": {
     "end_time": "2023-12-21T16:57:44.572937Z",
     "start_time": "2023-12-21T16:57:43.732773Z"
    }
   },
   "id": "fd14ec79cb068008"
  },
  {
   "cell_type": "code",
   "execution_count": 109,
   "outputs": [
    {
     "data": {
      "text/plain": "{'system_action': 'run_action'}"
     },
     "execution_count": 109,
     "metadata": {},
     "output_type": "execute_result"
    }
   ],
   "source": [
    "system_state"
   ],
   "metadata": {
    "collapsed": false,
    "ExecuteTime": {
     "end_time": "2023-12-21T16:57:44.580680Z",
     "start_time": "2023-12-21T16:57:44.574168Z"
    }
   },
   "id": "7e28d67a07e07b13"
  },
  {
   "cell_type": "markdown",
   "source": [
    "#### Update System State"
   ],
   "metadata": {
    "collapsed": false
   },
   "id": "80757360e3beff38"
  },
  {
   "cell_type": "code",
   "execution_count": 110,
   "outputs": [],
   "source": [
    "system_state = prompt_agent.update_system_state(system_state=system_state, dialog_state=dialog_state)"
   ],
   "metadata": {
    "collapsed": false,
    "ExecuteTime": {
     "end_time": "2023-12-21T16:57:44.581822Z",
     "start_time": "2023-12-21T16:57:44.578580Z"
    }
   },
   "id": "8e34033453e9c168"
  },
  {
   "cell_type": "code",
   "execution_count": 111,
   "outputs": [
    {
     "data": {
      "text/plain": "{'system_action': 'run_action',\n 'db': [{'event_name': '데이트', 'date': '2023-12-23', 'time': '12:00'}],\n 'action': 'read'}"
     },
     "execution_count": 111,
     "metadata": {},
     "output_type": "execute_result"
    }
   ],
   "source": [
    "system_state"
   ],
   "metadata": {
    "collapsed": false,
    "ExecuteTime": {
     "end_time": "2023-12-21T16:57:44.588040Z",
     "start_time": "2023-12-21T16:57:44.582029Z"
    }
   },
   "id": "62d767e568cbc976"
  },
  {
   "cell_type": "markdown",
   "source": [
    "### Run NLG Chain"
   ],
   "metadata": {
    "collapsed": false
   },
   "id": "e897439f5fcdb12e"
  },
  {
   "cell_type": "code",
   "execution_count": 112,
   "outputs": [
    {
     "name": "stdout",
     "output_type": "stream",
     "text": [
      "\n",
      "\n",
      "\u001B[1m> Entering new LLMChain chain...\u001B[0m\n",
      "Prompt after formatting:\n",
      "\u001B[32;1m\u001B[1;3mAI: 당신은 일정관리 시스템의 Natural Language Generator 입니다.\n",
      "system_stater값을 이용하여 user에게 자연어 형태로 응답하세요.\n",
      "\n",
      "# data\n",
      "system_state: {'system_action': 'run_action', 'db': [{'event_name': '데이트', 'date': '2023-12-23', 'time': '12:00'}], 'action': 'read'}\n",
      "현재날짜: 2023-12-22 01:57\n",
      "\n",
      "# 응답\n",
      "- 자연어 형태로 출력\n",
      "\u001B[0m\n",
      "\n",
      "\u001B[1m> Finished chain.\u001B[0m\n"
     ]
    }
   ],
   "source": [
    "nlg_result = prompt_agent.run_nlg_chain(system_state)"
   ],
   "metadata": {
    "collapsed": false,
    "ExecuteTime": {
     "end_time": "2023-12-21T16:57:45.811971Z",
     "start_time": "2023-12-21T16:57:44.586789Z"
    }
   },
   "id": "2caaf67e2bb6aef2"
  },
  {
   "cell_type": "code",
   "execution_count": 113,
   "outputs": [
    {
     "data": {
      "text/plain": "'당신의 데이트 일정은 2023년 12월 23일 12시에 예정되어 있습니다.'"
     },
     "execution_count": 113,
     "metadata": {},
     "output_type": "execute_result"
    }
   ],
   "source": [
    "nlg_result"
   ],
   "metadata": {
    "collapsed": false,
    "ExecuteTime": {
     "end_time": "2023-12-21T16:57:45.819617Z",
     "start_time": "2023-12-21T16:57:45.813517Z"
    }
   },
   "id": "de5bbbdd8dfbc8c4"
  },
  {
   "cell_type": "markdown",
   "source": [
    "### Run NLU Chain (2nd turn)"
   ],
   "metadata": {
    "collapsed": false
   },
   "id": "db0ff312755dd3d9"
  },
  {
   "cell_type": "code",
   "execution_count": 114,
   "outputs": [
    {
     "name": "stdout",
     "output_type": "stream",
     "text": [
      "\n",
      "\n",
      "\u001B[1m> Entering new LLMChain chain...\u001B[0m\n",
      "Prompt after formatting:\n",
      "\u001B[32;1m\u001B[1;3mAI: 당신은 일정관리 시스템 입니다. 일정관리를 위해 필요한 slot, value를 추출합니다.\n",
      "\n",
      "event_name이 확실하지 않을 땐 추출하지 않습니다.\n",
      "time은 HH:MM 형식으로 출력합니다.\n",
      "date는 YYYY-MM-DD 형식으로 출력합니다.\n",
      "\n",
      "현재날짜: 2023-12-22 01:57\n",
      "\n",
      "Human: 일정을 이틀 후로 변경해줘\u001B[0m\n",
      "\n",
      "\u001B[1m> Finished chain.\u001B[0m\n"
     ]
    }
   ],
   "source": [
    "inp = '일정을 이틀 후로 변경해줘'\n",
    "nlu_result = prompt_agent.run_nlu_chain(inp=inp)"
   ],
   "metadata": {
    "collapsed": false,
    "ExecuteTime": {
     "end_time": "2023-12-21T16:57:47.923150Z",
     "start_time": "2023-12-21T16:57:45.819283Z"
    }
   },
   "id": "c4f51945cd3e7c6d"
  },
  {
   "cell_type": "code",
   "execution_count": 115,
   "outputs": [
    {
     "data": {
      "text/plain": "{'event_name': '', 'action': 'update', 'date': '2023-12-24', 'time': ''}"
     },
     "execution_count": 115,
     "metadata": {},
     "output_type": "execute_result"
    }
   ],
   "source": [
    "nlu_result"
   ],
   "metadata": {
    "collapsed": false,
    "ExecuteTime": {
     "end_time": "2023-12-21T16:57:47.929464Z",
     "start_time": "2023-12-21T16:57:47.924527Z"
    }
   },
   "id": "8df549625f22b931"
  },
  {
   "cell_type": "code",
   "execution_count": 116,
   "outputs": [],
   "source": [
    "user_action = nlu_result['action']\n",
    "\n",
    "if user_action == 'read':\n",
    "    schedule_db = schedule_list\n",
    "else:\n",
    "    schedule_db = []\n",
    "\n",
    "dialog_state = prompt_agent.update_dialog_state(dialog_state=dialog_state, db=schedule_db)"
   ],
   "metadata": {
    "collapsed": false,
    "ExecuteTime": {
     "end_time": "2023-12-21T16:57:47.943561Z",
     "start_time": "2023-12-21T16:57:47.937154Z"
    }
   },
   "id": "df2661d5c332e703"
  },
  {
   "cell_type": "code",
   "execution_count": 117,
   "outputs": [
    {
     "data": {
      "text/plain": "{'event_name': '',\n 'action': 'read',\n 'date': '2023-12-23',\n 'time': '',\n 'db': [{'event_name': '데이트', 'date': '2023-12-23', 'time': '12:00'}]}"
     },
     "execution_count": 117,
     "metadata": {},
     "output_type": "execute_result"
    }
   ],
   "source": [
    "dialog_state"
   ],
   "metadata": {
    "collapsed": false,
    "ExecuteTime": {
     "end_time": "2023-12-21T16:57:47.959642Z",
     "start_time": "2023-12-21T16:57:47.941460Z"
    }
   },
   "id": "e61227dbb71652e2"
  },
  {
   "cell_type": "markdown",
   "source": [
    "### Run DST Chain (2nd turn)"
   ],
   "metadata": {
    "collapsed": false
   },
   "id": "d57a2d0b3d666b63"
  },
  {
   "cell_type": "code",
   "execution_count": 118,
   "outputs": [
    {
     "name": "stdout",
     "output_type": "stream",
     "text": [
      "\n",
      "\n",
      "\u001B[1m> Entering new LLMChain chain...\u001B[0m\n",
      "Prompt after formatting:\n",
      "\u001B[32;1m\u001B[1;3mAI: 당신은 일정관리 시스템의 Dialog State Tracker 입니다. \n",
      "일정관리를 위해 nlu_result를 분석하여 dialog_state를 업데이트 하세요.\n",
      "read를 수행하기 위해서는 1개 이상의 db가 필요합니다.\n",
      "update, delete를 수행하기 위해서는 오직 1개의 db만 필요합니다.\n",
      "업데이트 된 dialog_state에는 현재 dialog_state db에 있는 값 중 slot, value 조건에 맞는 값만 남겨놓습니다.\n",
      "\n",
      "\n",
      "# data\n",
      "nlu_result: {'event_name': '', 'action': 'update', 'date': '2023-12-24', 'time': ''}\n",
      "dialog_state: {'event_name': '', 'action': 'read', 'date': '2023-12-23', 'time': '', 'db': [{'event_name': '데이트', 'date': '2023-12-23', 'time': '12:00'}]}\n",
      "현재날짜: 2023-12-22 01:57\n",
      "\n",
      "# 응답\n",
      "- 업데이트된 dialog_state 를 dict 형태로 출력\n",
      "\u001B[0m\n",
      "\n",
      "\u001B[1m> Finished chain.\u001B[0m\n"
     ]
    }
   ],
   "source": [
    "dst_result = prompt_agent.run_dst_chain(dialog_state=dialog_state, nlu_result=nlu_result)\n",
    "dialog_state = dst_result"
   ],
   "metadata": {
    "collapsed": false,
    "ExecuteTime": {
     "end_time": "2023-12-21T16:57:49.982466Z",
     "start_time": "2023-12-21T16:57:47.945921Z"
    }
   },
   "id": "ebfdcf7832206a1b"
  },
  {
   "cell_type": "code",
   "execution_count": 119,
   "outputs": [
    {
     "data": {
      "text/plain": "{'event_name': '',\n 'action': 'update',\n 'date': '2023-12-24',\n 'time': '',\n 'db': [{'event_name': '데이트', 'date': '2023-12-23', 'time': '12:00'}]}"
     },
     "execution_count": 119,
     "metadata": {},
     "output_type": "execute_result"
    }
   ],
   "source": [
    "dialog_state"
   ],
   "metadata": {
    "collapsed": false,
    "ExecuteTime": {
     "end_time": "2023-12-21T16:57:49.985900Z",
     "start_time": "2023-12-21T16:57:49.978975Z"
    }
   },
   "id": "16722f75896ef9c2"
  },
  {
   "cell_type": "code",
   "execution_count": 120,
   "outputs": [],
   "source": [
    "dialog_state = prompt_agent.update_dialog_state(dialog_state=dialog_state)"
   ],
   "metadata": {
    "collapsed": false,
    "ExecuteTime": {
     "end_time": "2023-12-21T16:57:49.989970Z",
     "start_time": "2023-12-21T16:57:49.985094Z"
    }
   },
   "id": "5ff844f9a93ce553"
  },
  {
   "cell_type": "code",
   "execution_count": 121,
   "outputs": [
    {
     "data": {
      "text/plain": "{'event_name': '데이트',\n 'action': 'update',\n 'date': '2023-12-24',\n 'time': '12:00',\n 'db': [{'event_name': '데이트', 'date': '2023-12-23', 'time': '12:00'}]}"
     },
     "execution_count": 121,
     "metadata": {},
     "output_type": "execute_result"
    }
   ],
   "source": [
    "dialog_state"
   ],
   "metadata": {
    "collapsed": false,
    "ExecuteTime": {
     "end_time": "2023-12-21T16:57:49.994047Z",
     "start_time": "2023-12-21T16:57:49.989236Z"
    }
   },
   "id": "6f542b570aafb468"
  },
  {
   "cell_type": "markdown",
   "source": [
    "### Run DP Chain (2nd turn)"
   ],
   "metadata": {
    "collapsed": false
   },
   "id": "420d80899f6bedab"
  },
  {
   "cell_type": "code",
   "execution_count": 122,
   "outputs": [
    {
     "name": "stdout",
     "output_type": "stream",
     "text": [
      "\n",
      "\n",
      "\u001B[1m> Entering new LLMChain chain...\u001B[0m\n",
      "Prompt after formatting:\n",
      "\u001B[32;1m\u001B[1;3mAI: 당신은 일정관리 시스템의 Dialog Policy 입니다.\n",
      "dialog_state를 분석하여 system_action을 결정하세요.\n",
      "\n",
      "# data\n",
      "dialog_state: {'event_name': '데이트', 'action': 'update', 'date': '2023-12-24', 'time': '12:00', 'db': [{'event_name': '데이트', 'date': '2023-12-23', 'time': '12:00'}]}\n",
      "현재날짜: 2023-12-22 01:57\n",
      "\n",
      "# 응답\n",
      "- 형식: system_action을 dict 형태로 출력\n",
      "- keys:\n",
      "  - system_action: (Required) \n",
      "    - inform: 정보를 알려줄 때\n",
      "    - request: 부족한 정보를 물어볼 때 slot을 함께 출력\n",
      "    - run_action: 필요한 정보를 충족할 경우 dialog_state의 action을 수행\n",
      "  - slot: event_name, date, time (Optional)\n",
      "  - value: str (Optional)\n",
      "\u001B[0m\n",
      "\n",
      "\u001B[1m> Finished chain.\u001B[0m\n"
     ]
    }
   ],
   "source": [
    "system_state = prompt_agent.run_dp_chain(dialog_state=dialog_state)"
   ],
   "metadata": {
    "collapsed": false,
    "ExecuteTime": {
     "end_time": "2023-12-21T16:57:50.860302Z",
     "start_time": "2023-12-21T16:57:49.994824Z"
    }
   },
   "id": "9cb84abcf6457642"
  },
  {
   "cell_type": "code",
   "execution_count": 123,
   "outputs": [
    {
     "data": {
      "text/plain": "{'system_action': 'run_action'}"
     },
     "execution_count": 123,
     "metadata": {},
     "output_type": "execute_result"
    }
   ],
   "source": [
    "system_state"
   ],
   "metadata": {
    "collapsed": false,
    "ExecuteTime": {
     "end_time": "2023-12-21T16:57:50.870Z",
     "start_time": "2023-12-21T16:57:50.861214Z"
    }
   },
   "id": "71d1c427871b9c43"
  },
  {
   "cell_type": "code",
   "execution_count": 124,
   "outputs": [],
   "source": [
    "system_state = prompt_agent.update_system_state(system_state=system_state, dialog_state=dialog_state)"
   ],
   "metadata": {
    "collapsed": false,
    "ExecuteTime": {
     "end_time": "2023-12-21T16:57:50.871682Z",
     "start_time": "2023-12-21T16:57:50.866615Z"
    }
   },
   "id": "877075a01992ba38"
  },
  {
   "cell_type": "code",
   "execution_count": 125,
   "outputs": [
    {
     "data": {
      "text/plain": "{'system_action': 'run_action',\n 'event_name': '데이트',\n 'date': '2023-12-24',\n 'time': '12:00',\n 'action': 'update'}"
     },
     "execution_count": 125,
     "metadata": {},
     "output_type": "execute_result"
    }
   ],
   "source": [
    "system_state"
   ],
   "metadata": {
    "collapsed": false,
    "ExecuteTime": {
     "end_time": "2023-12-21T16:57:50.882212Z",
     "start_time": "2023-12-21T16:57:50.871419Z"
    }
   },
   "id": "b8319c68d48e9388"
  },
  {
   "cell_type": "markdown",
   "source": [
    "### Run NLG Chain (2nd turn)"
   ],
   "metadata": {
    "collapsed": false
   },
   "id": "b5e805b2ab3792c5"
  },
  {
   "cell_type": "code",
   "execution_count": 126,
   "outputs": [
    {
     "name": "stdout",
     "output_type": "stream",
     "text": [
      "\n",
      "\n",
      "\u001B[1m> Entering new LLMChain chain...\u001B[0m\n",
      "Prompt after formatting:\n",
      "\u001B[32;1m\u001B[1;3mAI: 당신은 일정관리 시스템의 Natural Language Generator 입니다.\n",
      "system_stater값을 이용하여 user에게 자연어 형태로 응답하세요.\n",
      "\n",
      "# data\n",
      "system_state: {'system_action': 'run_action', 'event_name': '데이트', 'date': '2023-12-24', 'time': '12:00', 'action': 'update'}\n",
      "현재날짜: 2023-12-22 01:57\n",
      "\n",
      "# 응답\n",
      "- 자연어 형태로 출력\n",
      "\u001B[0m\n",
      "\n",
      "\u001B[1m> Finished chain.\u001B[0m\n"
     ]
    }
   ],
   "source": [
    "nlg_result = prompt_agent.run_nlg_chain(system_state)"
   ],
   "metadata": {
    "collapsed": false,
    "ExecuteTime": {
     "end_time": "2023-12-21T16:57:52.285617Z",
     "start_time": "2023-12-21T16:57:50.878355Z"
    }
   },
   "id": "b4fbbd662dba459a"
  },
  {
   "cell_type": "code",
   "execution_count": 127,
   "outputs": [
    {
     "data": {
      "text/plain": "'데이트 일정이 2023년 12월 24일 12시로 업데이트되었습니다.'"
     },
     "execution_count": 127,
     "metadata": {},
     "output_type": "execute_result"
    }
   ],
   "source": [
    "nlg_result"
   ],
   "metadata": {
    "collapsed": false,
    "ExecuteTime": {
     "end_time": "2023-12-21T16:57:52.288675Z",
     "start_time": "2023-12-21T16:57:52.282591Z"
    }
   },
   "id": "3f499fc41512fc0c"
  },
  {
   "cell_type": "code",
   "execution_count": 127,
   "outputs": [],
   "source": [],
   "metadata": {
    "collapsed": false,
    "ExecuteTime": {
     "end_time": "2023-12-21T16:57:52.295930Z",
     "start_time": "2023-12-21T16:57:52.287664Z"
    }
   },
   "id": "f2f4f16c4ca21a33"
  }
 ],
 "metadata": {
  "kernelspec": {
   "display_name": "Python 3",
   "language": "python",
   "name": "python3"
  },
  "language_info": {
   "codemirror_mode": {
    "name": "ipython",
    "version": 2
   },
   "file_extension": ".py",
   "mimetype": "text/x-python",
   "name": "python",
   "nbconvert_exporter": "python",
   "pygments_lexer": "ipython2",
   "version": "2.7.6"
  }
 },
 "nbformat": 4,
 "nbformat_minor": 5
}
