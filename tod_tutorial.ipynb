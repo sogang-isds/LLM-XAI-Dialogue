{
 "cells": [
  {
   "cell_type": "markdown",
   "source": [
    "# Task Oriented Dialogue System with LLM"
   ],
   "metadata": {
    "collapsed": false
   },
   "id": "71266ef51177b3a1"
  },
  {
   "cell_type": "code",
   "execution_count": null,
   "id": "2e175c703d4cf332",
   "metadata": {},
   "outputs": [],
   "source": [
    "!pip install openai==1.6.0 langchain==0.0.350"
   ]
  },
  {
   "cell_type": "code",
   "execution_count": null,
   "id": "initial_id",
   "metadata": {
    "collapsed": true
   },
   "outputs": [],
   "source": [
    "import os\n",
    "from datetime import datetime, timedelta\n",
    "\n",
    "from langchain.chat_models import ChatOpenAI\n",
    "from langchain.chains import LLMChain\n",
    "from langchain.prompts import (\n",
    "    ChatPromptTemplate,\n",
    "    HumanMessagePromptTemplate,\n",
    "    MessagesPlaceholder,\n",
    "    SystemMessagePromptTemplate,\n",
    "    AIMessagePromptTemplate\n",
    ")\n",
    "from langchain.chains import create_extraction_chain"
   ]
  },
  {
   "cell_type": "code",
   "execution_count": null,
   "id": "86ecea277b883676",
   "metadata": {},
   "outputs": [],
   "source": [
    "# api_key = os.environ.get(\"OPENAI_API_KEY\")\n",
    "key = 'OPENAI_API_KEY'\n",
    "api_key = 'sk-' + key + 'bkFJm28ZY54dRNHk3u5edkod'"
   ]
  },
  {
   "cell_type": "markdown",
   "id": "7b3478e7e860426d",
   "metadata": {},
   "source": [
    "## Prompt"
   ]
  },
  {
   "cell_type": "markdown",
   "id": "97b4a08716d4acb8",
   "metadata": {},
   "source": [
    "### NLU Prompt"
   ]
  },
  {
   "cell_type": "code",
   "execution_count": null,
   "id": "1dc1cc6eb5f5869a",
   "metadata": {},
   "outputs": [],
   "source": [
    "nlu_prompt_text = \"\"\"당신은 일정관리 시스템 입니다. 일정관리를 위해 필요한 slot, value를 추출합니다.\n",
    "\n",
    "event_name이 확실하지 않을 땐 추출하지 않습니다.\n",
    "time은 HH:MM 형식으로 출력합니다.\n",
    "date는 YYYY-MM-DD 형식으로 출력합니다.\n",
    "\n",
    "현재날짜: {today}\n",
    "\"\"\""
   ]
  },
  {
   "cell_type": "markdown",
   "id": "5f771ed8cdc31725",
   "metadata": {},
   "source": [
    "### DST Prompt"
   ]
  },
  {
   "cell_type": "code",
   "execution_count": null,
   "id": "8e2e9eec76c518c9",
   "metadata": {},
   "outputs": [],
   "source": [
    "dst_prompt_text = \"\"\"당신은 일정관리 시스템의 Dialog State Tracker 입니다. \n",
    "일정관리를 위해 nlu_result를 분석하여 dialog_state를 업데이트 하세요.\n",
    "read를 수행하기 위해서는 1개 이상의 db가 필요합니다.\n",
    "update, delete를 수행하기 위해서는 오직 1개의 db만 필요합니다.\n",
    "업데이트 된 dialog_state에는 현재 dialog_state db에 있는 값 중 slot, value 조건에 맞는 값만 남겨놓습니다.\n",
    "\n",
    "\n",
    "# data\n",
    "nlu_result: {nlu_result}\n",
    "dialog_state: {dialog_state}\n",
    "현재날짜: {today}\n",
    "\n",
    "# 응답\n",
    "- 업데이트된 dialog_state 를 dict 형태로 출력\n",
    "\"\"\""
   ]
  },
  {
   "cell_type": "markdown",
   "id": "f5630a212fa7c8f6",
   "metadata": {},
   "source": [
    "### DP Prompt"
   ]
  },
  {
   "cell_type": "code",
   "execution_count": null,
   "id": "1fcaaf22578b09da",
   "metadata": {},
   "outputs": [],
   "source": [
    "dp_prompt_text = \"\"\"당신은 일정관리 시스템의 Dialog Policy 입니다.\n",
    "dialog_state를 분석하여 system_action을 결정하세요.\n",
    "\n",
    "# data\n",
    "dialog_state: {dialog_state}\n",
    "현재날짜: {today}\n",
    "\n",
    "# 응답\n",
    "- 형식: system_action을 dict 형태로 출력\n",
    "- keys:\n",
    "  - system_action: (Required) \n",
    "    - inform: 정보를 알려줄 때\n",
    "    - request: 부족한 정보를 물어볼 때 slot을 함께 출력\n",
    "    - run_action: 필요한 정보를 충족할 경우 dialog_state의 action을 수행\n",
    "  - slot: event_name, date, time (Optional)\n",
    "  - value: str (Optional)\n",
    "\"\"\""
   ]
  },
  {
   "cell_type": "markdown",
   "id": "615e8f22192c4ae",
   "metadata": {},
   "source": [
    "### NLG Prompt"
   ]
  },
  {
   "cell_type": "code",
   "execution_count": null,
   "id": "9565fad277d717cf",
   "metadata": {},
   "outputs": [],
   "source": [
    "nlg_prompt_text = \"\"\"당신은 일정관리 시스템의 Natural Language Generator 입니다.\n",
    "system_stater값을 이용하여 user에게 자연어 형태로 응답하세요.\n",
    "\n",
    "# data\n",
    "system_state: {system_state}\n",
    "현재날짜: {today}\n",
    "\n",
    "# 응답\n",
    "- 자연어 형태로 출력\n",
    "\"\"\""
   ]
  },
  {
   "cell_type": "markdown",
   "id": "32bcebcceb2d365b",
   "metadata": {},
   "source": [
    "## Agent"
   ]
  },
  {
   "cell_type": "code",
   "execution_count": null,
   "id": "2a5aa46637fd3ce0",
   "metadata": {},
   "outputs": [],
   "source": [
    "class PromptAgent:\n",
    "    def __init__(self, llm, verbose=False):\n",
    "        self.dp_chain = None\n",
    "        self.nlu_chain = None\n",
    "        self.dst_chain = None\n",
    "        self.nlg_chain = None\n",
    "        self.llm = llm\n",
    "        self.verbose = verbose\n",
    "\n",
    "        self.init_nlu_chain()\n",
    "        self.init_dst_chain()\n",
    "        self.init_nlg_chain()\n",
    "        self.init_dp_chain()\n",
    "\n",
    "        self.today = datetime.today().strftime(\"%Y-%m-%d %H:%M\")\n",
    "\n",
    "    def init_nlu_chain(self):\n",
    "        schema = {\n",
    "            \"properties\": {\n",
    "                \"event_name\": {\"type\": \"string\"},\n",
    "                \"action\": {\"type\": \"string\", \"enum\": [\"create\", \"read\", \"update\", \"delete\", \"inform\", \"request\"]},\n",
    "                \"date\": {\"type\": \"string\", \"description\": \"날짜\"},\n",
    "                \"time\": {\"type\": \"string\", \"description\": \"시간\"},\n",
    "            },\n",
    "            \"required\": [\"action\"],\n",
    "        }\n",
    "\n",
    "        nlu_prompt = ChatPromptTemplate(\n",
    "            messages=[\n",
    "                AIMessagePromptTemplate.from_template(nlu_prompt_text),\n",
    "                HumanMessagePromptTemplate.from_template(\"{user_input}\"),\n",
    "            ]\n",
    "        )\n",
    "\n",
    "        self.nlu_chain = create_extraction_chain(schema, self.llm, prompt=nlu_prompt, verbose=True)\n",
    "\n",
    "    def run_nlu_chain(self, inp):\n",
    "        response = self.nlu_chain.run({'user_input': inp, 'today': self.today})\n",
    "        return response[0]\n",
    "\n",
    "    def init_dst_chain(self):\n",
    "        dst_prompt = ChatPromptTemplate(\n",
    "            messages=[\n",
    "                AIMessagePromptTemplate.from_template(dst_prompt_text),\n",
    "                # HumanMessagePromptTemplate.from_template(\"{user_input}\"),\n",
    "            ],\n",
    "            input_variables=[\"nlu_result\", \"dialog_state\", \"today\"],\n",
    "        )\n",
    "        self.dst_chain = LLMChain(llm=self.llm, prompt=dst_prompt, verbose=True)\n",
    "\n",
    "    def run_dst_chain(self, dialog_state, nlu_result):\n",
    "        response = self.dst_chain.run({'dialog_state': dialog_state, 'nlu_result': nlu_result, 'today': self.today})\n",
    "        return eval(response)\n",
    "\n",
    "    def init_dp_chain(self):\n",
    "        dp_prompt = ChatPromptTemplate(\n",
    "            messages=[\n",
    "                AIMessagePromptTemplate.from_template(dp_prompt_text),\n",
    "                # HumanMessagePromptTemplate.from_template(\"{user_input}\"),\n",
    "            ]\n",
    "        )\n",
    "        self.dp_chain = LLMChain(llm=self.llm, prompt=dp_prompt, verbose=True)\n",
    "\n",
    "    def run_dp_chain(self, dialog_state):\n",
    "        response = self.dp_chain.run({'dialog_state': dialog_state, 'today': self.today})\n",
    "        return eval(response)\n",
    "\n",
    "    def init_nlg_chain(self):\n",
    "        nlg_prompt = ChatPromptTemplate(\n",
    "            messages=[\n",
    "                AIMessagePromptTemplate.from_template(nlg_prompt_text),\n",
    "                # HumanMessagePromptTemplate.from_template(\"{user_input}\"),\n",
    "            ]\n",
    "        )\n",
    "        self.nlg_chain = LLMChain(llm=self.llm, prompt=nlg_prompt, verbose=True)\n",
    "\n",
    "    def run_nlg_chain(self, system_state):\n",
    "        response = self.nlg_chain.run({'system_state': system_state, 'today': self.today})\n",
    "        return response\n",
    "\n",
    "    def update_dialog_state(self, dialog_state, db=None):\n",
    "        action = dialog_state['action']\n",
    "\n",
    "        if db:\n",
    "            dialog_state.update({'db': db})\n",
    "\n",
    "        if action == 'read':\n",
    "            pass\n",
    "\n",
    "        elif action == 'update':\n",
    "            db = dialog_state['db']\n",
    "\n",
    "            if len(db) == 1:\n",
    "                for key, val in db[0].items():\n",
    "                    if key in dialog_state.keys():\n",
    "                        if dialog_state[key] == '':\n",
    "                            dialog_state[key] = val\n",
    "\n",
    "        return dialog_state\n",
    "\n",
    "    def update_system_state(self, system_state, dialog_state):\n",
    "        action = dialog_state['action']\n",
    "        db = dialog_state['db']\n",
    "        system_action = system_state['system_action']\n",
    "\n",
    "        if system_action == 'inform':\n",
    "            pass\n",
    "        elif system_action == 'request':\n",
    "            pass\n",
    "        elif system_action == 'run_action':\n",
    "            if action == 'read':\n",
    "                system_state['db'] = db\n",
    "            elif action == 'update':\n",
    "                # update DB\n",
    "                for key, val in db[0].items():\n",
    "                    system_state[key] = val\n",
    "                for key, val in dialog_state.items():\n",
    "                    if key != 'db':\n",
    "                        system_state[key] = val\n",
    "\n",
    "        system_state['action'] = action\n",
    "        return system_state"
   ]
  },
  {
   "cell_type": "markdown",
   "id": "2643ca085b8e2c88",
   "metadata": {},
   "source": [
    "## TOD Example"
   ]
  },
  {
   "cell_type": "markdown",
   "id": "4924f598f9b700aa",
   "metadata": {},
   "source": [
    "### LangChain Model 생성"
   ]
  },
  {
   "cell_type": "code",
   "execution_count": null,
   "id": "a6b2226c6c777cfd",
   "metadata": {},
   "outputs": [],
   "source": [
    "llm = ChatOpenAI(temperature=0, model=\"gpt-3.5-turbo\", api_key=api_key)\n",
    "prompt_agent = PromptAgent(llm=llm, verbose=True)"
   ]
  },
  {
   "cell_type": "markdown",
   "id": "7850a932a3c7328d",
   "metadata": {},
   "source": [
    "### Dialog State 초기화"
   ]
  },
  {
   "cell_type": "code",
   "execution_count": null,
   "id": "1cb456802d3a060b",
   "metadata": {},
   "outputs": [],
   "source": [
    "dialog_state = {'event_name': '', 'action': '', 'date': '', 'time': '', 'db': []}"
   ]
  },
  {
   "cell_type": "markdown",
   "id": "8a138ca60d8252fd",
   "metadata": {},
   "source": [
    "### 모의 DB 생성"
   ]
  },
  {
   "cell_type": "code",
   "execution_count": null,
   "id": "a9d9e5f5ece0642a",
   "metadata": {},
   "outputs": [],
   "source": [
    "date_today = datetime.today().strftime(\"%Y-%m-%d\")\n",
    "date_tomorrow = (datetime.today() + timedelta(days=1)).strftime(\"%Y-%m-%d\")\n",
    "schedule_list = [\n",
    "    {\n",
    "        'event_name': '산책가기',\n",
    "        'date': date_today,\n",
    "        'time': '10:00'\n",
    "    },\n",
    "    {\n",
    "        'event_name': '데이트',\n",
    "        'date': date_tomorrow,\n",
    "        'time': '12:00'\n",
    "    }\n",
    "]"
   ]
  },
  {
   "cell_type": "markdown",
   "id": "4a7195945c9341b7",
   "metadata": {},
   "source": [
    "### Run NLU Chain"
   ]
  },
  {
   "cell_type": "code",
   "execution_count": null,
   "id": "211f0b029f82586",
   "metadata": {},
   "outputs": [],
   "source": [
    "inp = '내일 일정을 조회해줘'\n",
    "nlu_result = prompt_agent.run_nlu_chain(inp=inp)"
   ]
  },
  {
   "cell_type": "code",
   "execution_count": null,
   "id": "1fb4fe4684df6c7e",
   "metadata": {},
   "outputs": [],
   "source": [
    "nlu_result"
   ]
  },
  {
   "cell_type": "markdown",
   "id": "9454fcb425b872f4",
   "metadata": {},
   "source": [
    "#### Update Dialog State"
   ]
  },
  {
   "cell_type": "code",
   "execution_count": null,
   "id": "2d4a9f842f6306bc",
   "metadata": {},
   "outputs": [],
   "source": [
    "user_action = nlu_result['action']\n",
    "\n",
    "if user_action == 'read':\n",
    "    schedule_db = schedule_list\n",
    "else:\n",
    "    schedule_db = []\n",
    "\n",
    "dialog_state = prompt_agent.update_dialog_state(dialog_state=dialog_state, db=schedule_db)"
   ]
  },
  {
   "cell_type": "code",
   "execution_count": null,
   "id": "729049bd07e0a198",
   "metadata": {},
   "outputs": [],
   "source": [
    "dialog_state"
   ]
  },
  {
   "cell_type": "markdown",
   "id": "d154f6504797798d",
   "metadata": {},
   "source": [
    "### Run DST Chain"
   ]
  },
  {
   "cell_type": "code",
   "execution_count": null,
   "id": "125741af07c82306",
   "metadata": {},
   "outputs": [],
   "source": [
    "dst_result = prompt_agent.run_dst_chain(dialog_state=dialog_state, nlu_result=nlu_result)\n",
    "dialog_state = dst_result"
   ]
  },
  {
   "cell_type": "code",
   "execution_count": null,
   "id": "2b7104c1e236856a",
   "metadata": {},
   "outputs": [],
   "source": [
    "dialog_state"
   ]
  },
  {
   "cell_type": "markdown",
   "id": "379466a6ff2fc8ce",
   "metadata": {},
   "source": [
    "#### Update Dialog State"
   ]
  },
  {
   "cell_type": "code",
   "execution_count": null,
   "id": "ed2afb819f0a605a",
   "metadata": {},
   "outputs": [],
   "source": [
    "dialog_state = prompt_agent.update_dialog_state(dialog_state=dialog_state)"
   ]
  },
  {
   "cell_type": "code",
   "execution_count": null,
   "id": "ab8176fcf26d012",
   "metadata": {},
   "outputs": [],
   "source": [
    "dialog_state"
   ]
  },
  {
   "cell_type": "markdown",
   "id": "dc9852b3d40233cd",
   "metadata": {},
   "source": [
    "### Run DP Chain"
   ]
  },
  {
   "cell_type": "code",
   "execution_count": null,
   "id": "fd14ec79cb068008",
   "metadata": {},
   "outputs": [],
   "source": [
    "system_state = prompt_agent.run_dp_chain(dialog_state=dialog_state)"
   ]
  },
  {
   "cell_type": "code",
   "execution_count": null,
   "id": "7e28d67a07e07b13",
   "metadata": {},
   "outputs": [],
   "source": [
    "system_state"
   ]
  },
  {
   "cell_type": "markdown",
   "id": "80757360e3beff38",
   "metadata": {},
   "source": [
    "#### Update System State"
   ]
  },
  {
   "cell_type": "code",
   "execution_count": null,
   "id": "8e34033453e9c168",
   "metadata": {},
   "outputs": [],
   "source": [
    "system_state = prompt_agent.update_system_state(system_state=system_state, dialog_state=dialog_state)"
   ]
  },
  {
   "cell_type": "code",
   "execution_count": null,
   "id": "62d767e568cbc976",
   "metadata": {},
   "outputs": [],
   "source": [
    "system_state"
   ]
  },
  {
   "cell_type": "markdown",
   "id": "e897439f5fcdb12e",
   "metadata": {},
   "source": [
    "### Run NLG Chain"
   ]
  },
  {
   "cell_type": "code",
   "execution_count": null,
   "id": "2caaf67e2bb6aef2",
   "metadata": {},
   "outputs": [],
   "source": [
    "nlg_result = prompt_agent.run_nlg_chain(system_state)"
   ]
  },
  {
   "cell_type": "code",
   "execution_count": null,
   "id": "de5bbbdd8dfbc8c4",
   "metadata": {},
   "outputs": [],
   "source": [
    "nlg_result"
   ]
  },
  {
   "cell_type": "markdown",
   "id": "db0ff312755dd3d9",
   "metadata": {},
   "source": [
    "### Run NLU Chain (2nd turn)"
   ]
  },
  {
   "cell_type": "code",
   "execution_count": null,
   "id": "c4f51945cd3e7c6d",
   "metadata": {},
   "outputs": [],
   "source": [
    "inp = '일정을 이틀 후로 변경해줘'\n",
    "nlu_result = prompt_agent.run_nlu_chain(inp=inp)"
   ]
  },
  {
   "cell_type": "code",
   "execution_count": null,
   "id": "8df549625f22b931",
   "metadata": {},
   "outputs": [],
   "source": [
    "nlu_result"
   ]
  },
  {
   "cell_type": "code",
   "execution_count": null,
   "id": "df2661d5c332e703",
   "metadata": {},
   "outputs": [],
   "source": [
    "user_action = nlu_result['action']\n",
    "\n",
    "if user_action == 'read':\n",
    "    schedule_db = schedule_list\n",
    "else:\n",
    "    schedule_db = []\n",
    "\n",
    "dialog_state = prompt_agent.update_dialog_state(dialog_state=dialog_state, db=schedule_db)"
   ]
  },
  {
   "cell_type": "code",
   "execution_count": null,
   "id": "e61227dbb71652e2",
   "metadata": {},
   "outputs": [],
   "source": [
    "dialog_state"
   ]
  },
  {
   "cell_type": "markdown",
   "id": "d57a2d0b3d666b63",
   "metadata": {},
   "source": [
    "### Run DST Chain (2nd turn)"
   ]
  },
  {
   "cell_type": "code",
   "execution_count": null,
   "id": "ebfdcf7832206a1b",
   "metadata": {},
   "outputs": [],
   "source": [
    "dst_result = prompt_agent.run_dst_chain(dialog_state=dialog_state, nlu_result=nlu_result)\n",
    "dialog_state = dst_result"
   ]
  },
  {
   "cell_type": "code",
   "execution_count": null,
   "id": "16722f75896ef9c2",
   "metadata": {},
   "outputs": [],
   "source": [
    "dialog_state"
   ]
  },
  {
   "cell_type": "code",
   "execution_count": null,
   "id": "5ff844f9a93ce553",
   "metadata": {},
   "outputs": [],
   "source": [
    "dialog_state = prompt_agent.update_dialog_state(dialog_state=dialog_state)"
   ]
  },
  {
   "cell_type": "code",
   "execution_count": null,
   "id": "6f542b570aafb468",
   "metadata": {},
   "outputs": [],
   "source": [
    "dialog_state"
   ]
  },
  {
   "cell_type": "markdown",
   "id": "420d80899f6bedab",
   "metadata": {},
   "source": [
    "### Run DP Chain (2nd turn)"
   ]
  },
  {
   "cell_type": "code",
   "execution_count": null,
   "id": "9cb84abcf6457642",
   "metadata": {},
   "outputs": [],
   "source": [
    "system_state = prompt_agent.run_dp_chain(dialog_state=dialog_state)"
   ]
  },
  {
   "cell_type": "code",
   "execution_count": null,
   "id": "71d1c427871b9c43",
   "metadata": {},
   "outputs": [],
   "source": [
    "system_state"
   ]
  },
  {
   "cell_type": "code",
   "execution_count": null,
   "id": "877075a01992ba38",
   "metadata": {},
   "outputs": [],
   "source": [
    "system_state = prompt_agent.update_system_state(system_state=system_state, dialog_state=dialog_state)"
   ]
  },
  {
   "cell_type": "code",
   "execution_count": null,
   "id": "b8319c68d48e9388",
   "metadata": {},
   "outputs": [],
   "source": [
    "system_state"
   ]
  },
  {
   "cell_type": "markdown",
   "id": "b5e805b2ab3792c5",
   "metadata": {},
   "source": [
    "### Run NLG Chain (2nd turn)"
   ]
  },
  {
   "cell_type": "code",
   "execution_count": null,
   "id": "b4fbbd662dba459a",
   "metadata": {},
   "outputs": [],
   "source": [
    "nlg_result = prompt_agent.run_nlg_chain(system_state)"
   ]
  },
  {
   "cell_type": "code",
   "execution_count": null,
   "id": "3f499fc41512fc0c",
   "metadata": {},
   "outputs": [],
   "source": [
    "nlg_result"
   ]
  },
  {
   "cell_type": "code",
   "execution_count": null,
   "id": "f2f4f16c4ca21a33",
   "metadata": {},
   "outputs": [],
   "source": []
  }
 ],
 "metadata": {
  "kernelspec": {
   "display_name": "Python 3 (ipykernel)",
   "language": "python",
   "name": "python3"
  },
  "language_info": {
   "codemirror_mode": {
    "name": "ipython",
    "version": 3
   },
   "file_extension": ".py",
   "mimetype": "text/x-python",
   "name": "python",
   "nbconvert_exporter": "python",
   "pygments_lexer": "ipython3",
   "version": "3.10.8"
  }
 },
 "nbformat": 4,
 "nbformat_minor": 5
}
